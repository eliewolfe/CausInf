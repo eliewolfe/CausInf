{
 "cells": [
  {
   "cell_type": "code",
   "execution_count": 1,
   "metadata": {
    "collapsed": false,
    "jupyter": {
     "outputs_hidden": false
    },
    "pycharm": {
     "name": "#%%\n"
    }
   },
   "outputs": [],
   "source": [
    "from __future__ import absolute_import\n",
    "\n",
    "%reload_ext autoreload\n",
    "from igraph import Graph\n",
    "import numpy as np\n",
    "#import time\n",
    "#from numba import njit\n",
    "from scipy.sparse import coo_matrix, dok_matrix, csr_matrix\n",
    "#from collections import defaultdict\n",
    "#import json\n",
    "import importlib\n",
    "\n",
    "import os\n",
    "os.environ['PYTHONUNBUFFERED'] = '1'"
   ]
  },
  {
   "cell_type": "code",
   "execution_count": 2,
   "metadata": {},
   "outputs": [],
   "source": [
    "def ListOfBitStringsToListOfIntegers(list_of_bitstrings):\n",
    "    return list(map(lambda s: int(s,2),list_of_bitstrings))\n",
    "def UniformDistributionFromSupport(list_of_bitstrings):\n",
    "    numvar = max(map(len,list_of_bitstrings))\n",
    "    numevents = len(list_of_bitstrings)\n",
    "    data = np.zeros(2 ** numvar)\n",
    "    data[ListOfBitStringsToListOfIntegers(list_of_bitstrings)] = 1/numevents\n",
    "    return data"
   ]
  },
  {
   "cell_type": "code",
   "execution_count": 3,
   "metadata": {},
   "outputs": [],
   "source": [
    "#Some graphs and data sets to play with\n",
    "InstrumentalGraph = Graph.Formula(\"U1->X->A->B,U2->A:B\")\n",
    "BiconfoundingGraph = Graph.Formula(\"U1->A:B,U2->A:C,A->B:C\")\n",
    "Evans14a = Graph.Formula(\"U1->A:C,U2->A:B:D,U3->B:C:D,A->B,C->D\")\n",
    "Evans14b = Graph.Formula(\"U1->A:C,U2->B:C:D,U3->A:D,A->B,B:C->D\")\n",
    "Evans14c = Graph.Formula(\"U1->A:C,U2->B:D,U3->A:D,A->B->C->D\")\n",
    "IceCreamGraph = Graph.Formula(\"U1->A,U2->B:D,U3->C:D,A->B:C,B->D\")\n",
    "BiconfoundingInstrumental = Graph.Formula(\"U1->A,U2->B:C,U3->B:D,A->B,B->C:D\")\n",
    "TriangleGraph = Graph.Formula(\"X->A,Y->A:B,Z->B:C,X->C\")\n",
    "\n",
    "\n",
    "#NOTE: Our inflation algorithm will always assume that the order of variables in the data set\n",
    "# matches the lexocographic ordering of the non-root variables in the graph.\n",
    "\n",
    "TriangleData=[0.12199995751046305, 0.0022969343799089472, 0.001748319476328954, 3.999015242496535e-05, 0.028907881434196828, 0.0005736087488455967, 0.0003924033706699725, 1.1247230369521505e-05, 0.0030142577390317635, 0.09234476010282468, 4.373922921480586e-05, 0.0014533921021948346, 0.0007798079722868244, 0.024091567451515063, 1.1247230369521505e-05, 0.0003849052170902915, 0.020774884184769502, 0.000396152447459813, 0.0003049249122403608, 4.998769053120669e-06, 0.10820335492385, 0.0020794879260981982, 0.0015546171755205281, 2.4993845265603346e-05, 0.0006260958239033638, 0.020273757587194154, 7.498153579681003e-06, 0.0003374169110856452, 0.0028942872817568676, 0.08976414557915113, 2.624353752888351e-05, 0.0012984302615480939, 0.002370666223442477, 4.7488306004646356e-05, 0.0999928767540993, 0.001957018084296742, 0.0006198473625869629, 8.747845842961171e-06, 0.02636975644747481, 0.0005198719815245496, 1.4996307159362007e-05, 0.000403650601039494, 0.0005498645958432735, 0.017359475229224805, 7.123245900696953e-05, 0.002346922070440154, 0.0033754188031197316, 0.10295964618712641, 0.00038740460161685187, 7.498153579681003e-06, 0.01608353942841575, 0.000306174604503641, 0.0021319750011559654, 4.248953695152569e-05, 0.09107007399427891, 0.001860791780024169, 5.998522863744803e-05, 0.0018395470115484063, 0.002570616985567304, 0.0766411271224461, 1.874538394920251e-05, 0.00048238121362614454, 0.0006410921310627258, 0.020223769896662948]\n",
    "InstrumentalData=UniformDistributionFromSupport(['000','011'])\n",
    "BiconfoundingData=UniformDistributionFromSupport(['000','011'])\n",
    "BiconfoundingInstrumentalData=UniformDistributionFromSupport(['0000','0100','1011','1111'])\n",
    "Evans14aData=UniformDistributionFromSupport(['0000','1001','1111'])\n",
    "Evans14aData2=UniformDistributionFromSupport(['0000','0010','0101'])\n",
    "Evans14bData=UniformDistributionFromSupport(['1000','1001','1111'])\n",
    "Evans14cData=UniformDistributionFromSupport(['0000','1101','1011'])\n",
    "IceCreamData=UniformDistributionFromSupport(['0000','1111','1010','0011'])"
   ]
  },
  {
   "cell_type": "code",
   "execution_count": 4,
   "metadata": {},
   "outputs": [
    {
     "name": "stdout",
     "output_type": "stream",
     "text": [
      "For the graph who's parental structure is given by:\n",
      "['U1:U2->A', 'U2:U3:A->B', 'U1:U3->C', 'U2:U3:C->D']\n",
      "We utilize the following ordering of variables: [U1,U2,U3,A,B,C,D]\n",
      "We identify the following screening-off relationships relevant to enforcing determinism:\n",
      "Sets given as (U1s,Y,Xs) with the following meaning:\n",
      "Ys are screened off from U1s by Xs.\n",
      "([U1],[B],[A])\n",
      "([U1],[D],[C])\n",
      "We identify the following screening-off non-ai expressible sets:\n",
      "Sets given as (Y,Xs,Zs,U3s) with the following meaning:\n",
      "Ys are screened off from Zs by Xs when U3s is different for (Y,Xs) vs Zs.\n",
      "([B],[A],[C],[U3])\n",
      "([D],[C],[A],[U2])\n",
      "────────────────────────────────────────────────────────────────────────────────\n",
      "\n"
     ]
    }
   ],
   "source": [
    "#Set as desired.\n",
    "#g=BiconfoundingGraph\n",
    "#data=BiconfoundingData\n",
    "#g=BiconfoundingInstrumental\n",
    "#data=BiconfoundingInstrumentalData\n",
    "#g = InstrumentalGraph\n",
    "#data = InstrumentalData\n",
    "g = Evans14a\n",
    "data = Evans14aData2\n",
    "#g = IceCreamGraph\n",
    "#data = IceCreamData\n",
    "\n",
    "\n",
    "card=2\n",
    "inflation_order=2\n",
    "from inflation.quickgraph import QuickGraphAssessment\n",
    "QuickGraphAssessment(g)"
   ]
  },
  {
   "cell_type": "code",
   "execution_count": 5,
   "metadata": {},
   "outputs": [
    {
     "data": {
      "text/plain": "(152, 967536)"
     },
     "execution_count": 5,
     "metadata": {},
     "output_type": "execute_result"
    }
   ],
   "source": [
    "from inflation.inflationmatrix import InflationMatrixFromGraph, NumericalAndSymbolicVectorsFromGraph\n",
    "InfMat = InflationMatrixFromGraph(g, inflation_order, card, extra_expressible=True)\n",
    "B_numeric, B_symbolic = NumericalAndSymbolicVectorsFromGraph(g, data, inflation_order, card, extra_expressible=True)\n",
    "\n",
    "InfMat.shape"
   ]
  },
  {
   "cell_type": "code",
   "execution_count": 6,
   "metadata": {
    "pycharm": {
     "name": "#%%\n"
    }
   },
   "outputs": [
    {
     "name": "stdout",
     "output_type": "stream",
     "text": [
      "Inferred primal variable count: 152\n",
      "Inferred dual variable count: 967536\n",
      "LP constructed, initiated optimizer.\n",
      "Open file 'mosek_prob.jtask'\n",
      "Start writing.\n",
      "done writing. Time: 1.02\n",
      "\n",
      "Problem\n",
      "  Name                   :                 \n",
      "  Objective sense        : min             \n",
      "  Type                   : LO (linear optimization problem)\n",
      "  Constraints            : 967537          \n",
      "  Cones                  : 0               \n",
      "  Scalar variables       : 152             \n",
      "  Matrix variables       : 0               \n",
      "  Integer variables      : 0               \n",
      "\n",
      "Optimizer started.\n",
      "Problem\n",
      "  Name                   :                 \n",
      "  Objective sense        : min             \n",
      "  Type                   : LO (linear optimization problem)\n",
      "  Constraints            : 967537          \n",
      "  Cones                  : 0               \n",
      "  Scalar variables       : 152             \n",
      "  Matrix variables       : 0               \n",
      "  Integer variables      : 0               \n",
      "\n",
      "Optimizer  - threads                : 6               \n",
      "Optimizer  - solved problem         : the dual        \n",
      "Optimizer  - Constraints            : 152\n",
      "Optimizer  - Cones                  : 0\n",
      "Optimizer  - Scalar variables       : 1935226           conic                  : 0               \n",
      "Optimizer  - Semi-definite variables: 0                 scalarized             : 0               \n",
      "Factor     - setup time             : 1.00              dense det. time        : 0.00            \n",
      "Factor     - ML order time          : 0.00              GP order time          : 0.00            \n",
      "Factor     - nonzeros before factor : 1.16e+04          after factor           : 1.16e+04        \n",
      "Factor     - dense dim.             : 0                 flops                  : 8.68e+06        \n",
      "ITE PFEAS    DFEAS    GFEAS    PRSTATUS   POBJ              DOBJ              MU       TIME  \n",
      "0   9.3e+03  2.1e+01  3.9e+07  0.00e+00   -3.000000000e+00  -1.808903241e+06  4.6e+02  1.76  \n",
      "1   8.9e+03  2.1e+01  3.7e+07  1.09e+00   -2.873790509e+00  -1.737287112e+06  4.4e+02  2.03  \n",
      "2   8.9e+03  2.1e+01  3.7e+07  6.91e-01   -2.934691682e+00  -1.768358067e+06  4.4e+02  2.25  \n",
      "3   8.9e+03  2.1e+01  3.7e+07  7.81e-01   -2.867692101e+00  -1.733625047e+06  4.4e+02  2.47  \n",
      "4   6.3e+03  1.5e+01  2.6e+07  6.02e-01   -2.041439079e+00  -1.247763731e+06  3.1e+02  2.70  \n",
      "5   4.0e+03  9.3e+00  1.7e+07  6.93e-01   -1.303427422e+00  -8.224024588e+05  2.0e+02  2.92  \n",
      "6   3.2e+02  7.5e-01  1.3e+06  8.41e-01   -1.407283461e-02  -6.930952882e+04  1.6e+01  3.13  \n",
      "7   3.8e+01  8.7e-02  1.6e+05  1.25e+00   7.213003283e-02   -7.064599770e+03  1.9e+00  3.34  \n",
      "8   2.2e-01  5.0e-04  9.1e+02  1.02e+00   8.211084355e-02   -4.015803040e+01  1.1e-02  3.56  \n",
      "9   1.1e-03  2.9e-05  5.2e+01  1.00e+00   7.080728319e-02   -2.250174929e+00  6.1e-04  3.78  \n",
      "10  7.4e-04  9.6e-04  1.1e+01  1.00e+00   2.421412113e-02   -4.429491823e-01  1.2e-04  4.00  \n",
      "11  6.7e-04  8.5e-04  1.0e+01  1.00e+00   2.814678847e-02   -4.227979075e-01  1.2e-04  4.20  \n",
      "12  4.8e-04  8.5e-04  9.2e+00  1.00e+00   2.377978480e-02   -3.858072392e-01  1.1e-04  4.41  \n",
      "13  4.8e-04  8.5e-04  9.2e+00  8.53e-01   2.377978480e-02   -3.858072392e-01  1.1e-04  4.63  \n",
      "14  3.9e-04  6.9e-04  7.5e+00  1.00e+00   2.104215487e-02   -3.125977521e-01  8.6e-05  5.14  \n",
      "15  1.3e-04  2.2e-04  2.4e+00  1.00e+00   7.962266713e-03   -9.943832607e-02  2.8e-05  5.70  \n",
      "16  2.0e-05  3.4e-05  3.8e-01  1.00e+00   7.489247510e-04   -1.596010130e-02  4.3e-06  6.25  \n",
      "17  1.2e-07  2.0e-07  2.2e-03  1.00e+00   4.328681548e-06   -9.341645176e-05  2.5e-08  6.81  \n",
      "18  6.0e-10  1.0e-09  1.1e-05  1.00e+00   2.233696694e-08   -4.820636157e-07  1.3e-10  7.39  \n",
      "19  4.6e-12  5.3e-12  5.8e-08  1.00e+00   1.139239814e-10   -2.460459836e-09  6.6e-13  7.86  \n",
      "Optimizer terminated. Time: 8.06    \n",
      "\n",
      "Open file 'mosek_sol.json'\n",
      "\n",
      "Interior-point solution summary\n",
      "  Problem status  : PRIMAL_AND_DUAL_FEASIBLE\n",
      "  Solution status : OPTIMAL\n",
      "  Primal.  obj: 1.1392479552e-10    nrm: 1e+00    Viol.  con: 2e-14    var: 0e+00  \n",
      "  Dual.    obj: -2.4013224826e-09   nrm: 2e-02    Viol.  con: 8e-19    var: 2e-12  \n",
      "Problem status: prosta.prim_and_dual_feas\n",
      "Solution status: solsta.optimal\n",
      "\n",
      "Coefficient Range: [9.001688283660769e-13, 0.0777156898496123]\n"
     ]
    }
   ],
   "source": [
    "from inflation.moseklp import InfeasibilityCertificate\n",
    "from inflation.mosekinfeas import InfeasibilityCertificateAUTO #Different internal LP construction, formally same LP\n",
    "\n",
    "Sol=InfeasibilityCertificate(\n",
    "    InfMat,\n",
    "    B_numeric)"
   ]
  },
  {
   "cell_type": "code",
   "execution_count": 7,
   "metadata": {},
   "outputs": [
    {
     "name": "stdout",
     "output_type": "stream",
     "text": [
      "Distribution Compatibility Status: COMPATIBLE\n",
      "Compatibility Error: The input distribution is compatible with given inflation order test.\n"
     ]
    },
    {
     "ename": "AttributeError",
     "evalue": "'NoneType' object has no attribute 'keys'",
     "output_type": "error",
     "traceback": [
      "\u001B[1;31m---------------------------------------------------------------------------\u001B[0m",
      "\u001B[1;31mAttributeError\u001B[0m                            Traceback (most recent call last)",
      "\u001B[1;32m<ipython-input-7-58a3958baa56>\u001B[0m in \u001B[0;36m<module>\u001B[1;34m\u001B[0m\n\u001B[0;32m      4\u001B[0m                                  \u001B[0mB_symbolic\u001B[0m\u001B[1;33m,\u001B[0m\u001B[1;33m\u001B[0m\u001B[1;33m\u001B[0m\u001B[0m\n\u001B[0;32m      5\u001B[0m                                  Sol)\n\u001B[1;32m----> 6\u001B[1;33m \u001B[0msolveroutputcleanedup\u001B[0m\u001B[1;33m.\u001B[0m\u001B[0mkeys\u001B[0m\u001B[1;33m(\u001B[0m\u001B[1;33m)\u001B[0m\u001B[1;33m\u001B[0m\u001B[1;33m\u001B[0m\u001B[0m\n\u001B[0m\u001B[0;32m      7\u001B[0m \u001B[1;33m\u001B[0m\u001B[0m\n\u001B[0;32m      8\u001B[0m \u001B[1;33m\u001B[0m\u001B[0m\n",
      "\u001B[1;31mAttributeError\u001B[0m: 'NoneType' object has no attribute 'keys'"
     ]
    }
   ],
   "source": [
    "from inflation.certificate import Inequality\n",
    "solveroutputcleanedup=Inequality(InfMat,\n",
    "                                 B_numeric,\n",
    "                                 B_symbolic,\n",
    "                                 Sol)\n",
    "solveroutputcleanedup.keys()\n"
   ]
  },
  {
   "cell_type": "code",
   "execution_count": null,
   "metadata": {},
   "outputs": [],
   "source": [
    "solveroutputcleanedup['Coefficients grouped by symbol']"
   ]
  },
  {
   "cell_type": "code",
   "execution_count": null,
   "metadata": {
    "collapsed": false,
    "jupyter": {
     "outputs_hidden": false
    },
    "pycharm": {
     "name": "#%%\n"
    }
   },
   "outputs": [],
   "source": []
  }
 ],
 "metadata": {
  "kernelspec": {
   "display_name": "idp",
   "language": "python",
   "name": "idp"
  },
  "language_info": {
   "codemirror_mode": {
    "name": "ipython",
    "version": 3
   },
   "file_extension": ".py",
   "mimetype": "text/x-python",
   "name": "python",
   "nbconvert_exporter": "python",
   "pygments_lexer": "ipython3",
   "version": "3.7.9"
  }
 },
 "nbformat": 4,
 "nbformat_minor": 4
}