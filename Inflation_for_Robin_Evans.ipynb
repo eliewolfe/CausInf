{
 "cells": [
  {
   "cell_type": "code",
   "execution_count": 1,
   "metadata": {
    "collapsed": false,
    "jupyter": {
     "outputs_hidden": false
    },
    "pycharm": {
     "name": "#%%\n"
    }
   },
   "outputs": [],
   "source": [
    "from __future__ import absolute_import\n",
    "\n",
    "%reload_ext autoreload\n",
    "from igraph import Graph\n",
    "import numpy as np\n",
    "#import time\n",
    "#from numba import njit\n",
    "from scipy.sparse import coo_matrix, dok_matrix, csr_matrix\n",
    "#from collections import defaultdict\n",
    "#import json\n",
    "import importlib\n",
    "\n",
    "import os\n",
    "os.environ['PYTHONUNBUFFERED'] = '1'"
   ]
  },
  {
   "cell_type": "code",
   "execution_count": 19,
   "metadata": {},
   "outputs": [],
   "source": [
    "def ListOfBitStringsToListOfIntegers(list_of_bitstrings):\n",
    "    return list(map(lambda s: int(s,2),list_of_bitstrings))\n",
    "def UniformDistributionFromSupport(list_of_bitstrings):\n",
    "    numvar = max(map(len,list_of_bitstrings))\n",
    "    numevents = len(list_of_bitstrings)\n",
    "    data = np.zeros(2 ** numvar)\n",
    "    data[ListOfBitStringsToListOfIntegers(list_of_bitstrings)] = 1/numevents\n",
    "    return data"
   ]
  },
  {
   "cell_type": "code",
   "execution_count": 10,
   "metadata": {},
   "outputs": [],
   "source": [
    "#Some graphs and data sets to play with\n",
    "InstrumentalGraph = Graph.Formula(\"U1->X->A->B,U2->A:B\")\n",
    "Evans14a = Graph.Formula(\"U1->A:C,U2->A:B:D,U3->B:C:D,A->B,C->D\")\n",
    "Evans14b = Graph.Formula(\"U1->A:C,U2->B:C:D,U3->A:D,A->B,B:C->D\")\n",
    "Evans14c = Graph.Formula(\"U1->A:C,U2->B:D,U3->A:D,A->B->C->D\")\n",
    "IceCreamGraph = Graph.Formula(\"U1->A,U2->B:D,U3->C:D,A->B:C,B->D\")\n",
    "BiconfoundingInstrumental = Graph.Formula(\"U1->A,U2->B:C,U3->B:D,A->B,B->C:D\")\n",
    "TriangleGraph = Graph.Formula(\"X->A,Y->A:B,Z->B:C,X->C\")\n",
    "\n",
    "\n",
    "\n",
    "TriangleData=[0.12199995751046305, 0.0022969343799089472, 0.001748319476328954, 3.999015242496535e-05, 0.028907881434196828, 0.0005736087488455967, 0.0003924033706699725, 1.1247230369521505e-05, 0.0030142577390317635, 0.09234476010282468, 4.373922921480586e-05, 0.0014533921021948346, 0.0007798079722868244, 0.024091567451515063, 1.1247230369521505e-05, 0.0003849052170902915, 0.020774884184769502, 0.000396152447459813, 0.0003049249122403608, 4.998769053120669e-06, 0.10820335492385, 0.0020794879260981982, 0.0015546171755205281, 2.4993845265603346e-05, 0.0006260958239033638, 0.020273757587194154, 7.498153579681003e-06, 0.0003374169110856452, 0.0028942872817568676, 0.08976414557915113, 2.624353752888351e-05, 0.0012984302615480939, 0.002370666223442477, 4.7488306004646356e-05, 0.0999928767540993, 0.001957018084296742, 0.0006198473625869629, 8.747845842961171e-06, 0.02636975644747481, 0.0005198719815245496, 1.4996307159362007e-05, 0.000403650601039494, 0.0005498645958432735, 0.017359475229224805, 7.123245900696953e-05, 0.002346922070440154, 0.0033754188031197316, 0.10295964618712641, 0.00038740460161685187, 7.498153579681003e-06, 0.01608353942841575, 0.000306174604503641, 0.0021319750011559654, 4.248953695152569e-05, 0.09107007399427891, 0.001860791780024169, 5.998522863744803e-05, 0.0018395470115484063, 0.002570616985567304, 0.0766411271224461, 1.874538394920251e-05, 0.00048238121362614454, 0.0006410921310627258, 0.020223769896662948]\n",
    "InstrumentalData=UniformDistributionFromSupport(['000','101'])\n",
    "BiconfoundingInstrumentalData=UniformDistributionFromSupport(['0000','0100','1011','1111'])"
   ]
  },
  {
   "cell_type": "code",
   "execution_count": 21,
   "metadata": {},
   "outputs": [],
   "source": [
    "#Set as desired.\n",
    "Graph=BiconfoundingInstrumental\n",
    "Data=BiconfoundingInstrumentalData\n",
    "card=2\n",
    "inflation_order=2"
   ]
  },
  {
   "cell_type": "code",
   "execution_count": 22,
   "metadata": {},
   "outputs": [
    {
     "data": {
      "text/plain": [
       "[4, 26, ['A', 'B', 'C', 'D']]"
      ]
     },
     "execution_count": 22,
     "metadata": {},
     "output_type": "execute_result"
    }
   ],
   "source": [
    "from inflation.quickgraph import LearnSomeInflationGraphParameters\n",
    "#importlib.reload(sys.modules['inflation.quickgraph'])\n",
    "obs_count,num_vars,names=LearnSomeInflationGraphParameters(Graph,inflation_order)\n",
    "[obs_count,num_vars,names]"
   ]
  },
  {
   "cell_type": "code",
   "execution_count": 25,
   "metadata": {},
   "outputs": [
    {
     "name": "stdout",
     "output_type": "stream",
     "text": [
      "['A', 'B', 'C', 'D']\n"
     ]
    },
    {
     "data": {
      "text/plain": [
       "(136, 74198)"
      ]
     },
     "execution_count": 25,
     "metadata": {},
     "output_type": "execute_result"
    }
   ],
   "source": [
    "from inflation.inflationmatrix import InflationMatrixFromGraph,FindB\n",
    "SparseInflationMatrix = InflationMatrixFromGraph(Graph,inflation_order,card)\n",
    "SparseInflationMatrix.shape"
   ]
  },
  {
   "cell_type": "code",
   "execution_count": 26,
   "metadata": {},
   "outputs": [
    {
     "data": {
      "text/plain": [
       "[(136,), (136, 74198)]"
      ]
     },
     "execution_count": 26,
     "metadata": {},
     "output_type": "execute_result"
    }
   ],
   "source": [
    "MarginalVector=FindB(Data,inflation_order)\n",
    "[MarginalVector.shape,SparseInflationMatrix.shape]"
   ]
  },
  {
   "cell_type": "code",
   "execution_count": 28,
   "metadata": {
    "pycharm": {
     "name": "#%%\n"
    }
   },
   "outputs": [
    {
     "name": "stdout",
     "output_type": "stream",
     "text": [
      "Inferred primal variable count: 136\n",
      "Inferred dual variable count: 74198\n",
      "LP constructed, initiated optimizer.\n",
      "Open file 'mosek_prob.jtask'\n",
      "Start writing.\n",
      "done writing. Time: 0.06\n",
      "\n",
      "Problem\n",
      "  Name                   :                 \n",
      "  Objective sense        : min             \n",
      "  Type                   : LO (linear optimization problem)\n",
      "  Constraints            : 74199           \n",
      "  Cones                  : 0               \n",
      "  Scalar variables       : 136             \n",
      "  Matrix variables       : 0               \n",
      "  Integer variables      : 0               \n",
      "\n",
      "Optimizer started.\n",
      "Problem\n",
      "  Name                   :                 \n",
      "  Objective sense        : min             \n",
      "  Type                   : LO (linear optimization problem)\n",
      "  Constraints            : 74199           \n",
      "  Cones                  : 0               \n",
      "  Scalar variables       : 136             \n",
      "  Matrix variables       : 0               \n",
      "  Integer variables      : 0               \n",
      "\n",
      "Optimizer  - threads                : 6               \n",
      "Optimizer  - solved problem         : the dual        \n",
      "Optimizer  - Constraints            : 136\n",
      "Optimizer  - Cones                  : 0\n",
      "Optimizer  - Scalar variables       : 148534            conic                  : 0               \n",
      "Optimizer  - Semi-definite variables: 0                 scalarized             : 0               \n",
      "Factor     - setup time             : 0.06              dense det. time        : 0.00            \n",
      "Factor     - ML order time          : 0.00              GP order time          : 0.00            \n",
      "Factor     - nonzeros before factor : 9316              after factor           : 9316            \n",
      "Factor     - dense dim.             : 0                 flops                  : 2.08e+06        \n",
      "ITE PFEAS    DFEAS    GFEAS    PRSTATUS   POBJ              DOBJ              MU       TIME  \n",
      "0   4.6e+03  1.7e+01  1.8e+06  0.00e+00   -1.000000000e+00  -1.044033587e+05  2.8e+02  0.13  \n",
      "1   4.3e+03  1.6e+01  1.6e+06  1.56e+00   -9.039985038e-01  -9.475354645e+04  2.6e+02  0.17  \n",
      "2   4.2e+03  1.5e+01  1.6e+06  1.66e+00   -9.013276306e-01  -9.375023729e+04  2.6e+02  0.19  \n",
      "3   4.2e+03  1.5e+01  1.6e+06  1.66e+00   -8.836904449e-01  -9.261204379e+04  2.6e+02  0.22  \n",
      "4   2.2e+03  8.2e+00  8.5e+05  1.63e+00   -3.880803268e-01  -4.084666456e+04  1.4e+02  0.23  \n",
      "5   1.6e+03  5.7e+00  6.0e+05  1.12e+00   -2.648121890e-01  -2.850243842e+04  9.6e+01  0.25  \n",
      "6   8.5e+02  3.1e+00  3.3e+05  9.00e-01   -1.516342332e-01  -1.648895534e+04  5.2e+01  0.28  \n",
      "7   1.8e+02  6.6e-01  6.9e+04  1.00e+00   -2.562565804e-02  -3.458534726e+03  1.1e+01  0.30  \n",
      "8   8.7e+00  3.2e-02  3.3e+03  1.29e+00   6.154033482e-03   -1.403885793e+02  5.3e-01  0.33  \n",
      "9   8.5e-02  2.9e-04  3.1e+01  1.01e+00   7.421816578e-03   -1.290388198e+00  5.0e-03  0.34  \n",
      "10  3.7e-02  4.9e-05  5.1e+00  1.00e+00   3.938902865e-03   -2.131356435e-01  8.3e-04  0.38  \n",
      "11  2.4e-02  1.7e-05  1.9e+00  1.00e+00   4.797351558e-04   -7.931679044e-02  3.1e-04  0.39  \n",
      "12  2.4e-02  1.7e-05  1.9e+00  1.00e+00   1.591795382e-03   -7.754596677e-02  3.1e-04  0.41  \n",
      "13  6.1e-03  5.9e-06  6.4e-01  1.00e+00   5.607257460e-04   -2.647612487e-02  1.0e-04  0.42  \n",
      "14  3.2e-04  1.5e-07  1.4e-02  1.00e+00   1.954502823e-05   -5.648598114e-04  2.3e-06  0.44  \n",
      "15  3.2e-04  1.5e-07  1.4e-02  1.00e+00   1.954502823e-05   -5.648598114e-04  2.3e-06  0.47  \n",
      "16  3.2e-04  1.5e-07  1.4e-02  1.00e+00   1.954502823e-05   -5.648598114e-04  2.3e-06  0.50  \n",
      "17  1.6e-06  7.8e-10  7.1e-05  1.00e+00   1.002333014e-07   -2.908657088e-06  1.2e-08  0.55  \n",
      "18  8.4e-09  4.0e-12  3.7e-07  1.00e+00   5.172262618e-10   -1.500933389e-08  6.1e-11  0.58  \n",
      "19  8.4e-09  4.0e-12  3.7e-07  -1.66e+00  5.172262618e-10   -1.500933389e-08  6.1e-11  0.61  \n",
      "20  4.3e-11  2.1e-14  1.9e-09  1.00e+00   2.637889907e-12   -7.680567293e-11  3.1e-13  0.64  \n",
      "Optimizer terminated. Time: 0.67    \n",
      "\n",
      "Open file 'mosek_sol.json'\n",
      "\n",
      "Interior-point solution summary\n",
      "  Problem status  : PRIMAL_AND_DUAL_FEASIBLE\n",
      "  Solution status : OPTIMAL\n",
      "  Primal.  obj: 2.6379731732e-12    nrm: 1e+00    Viol.  con: 9e-13    var: 0e+00  \n",
      "  Dual.    obj: -7.7253351326e-11   nrm: 3e-02    Viol.  con: 2e-18    var: 0e+00  \n",
      "Problem status: prosta.prim_and_dual_feas\n",
      "Solution status: solsta.optimal\n",
      "\n",
      "Coefficient Range: [-2.7667577118251074e-09, 0.027005984420952034]\n"
     ]
    }
   ],
   "source": [
    "from inflation.moseklp import InfeasibilityCertificate\n",
    "from inflation.mosekinfeas import InfeasibilityCertificateAUTO #Different internal LP construction, formally same LP\n",
    "\n",
    "Sol=InfeasibilityCertificate(\n",
    "    SparseInflationMatrix,\n",
    "    MarginalVector)"
   ]
  },
  {
   "cell_type": "code",
   "execution_count": 32,
   "metadata": {},
   "outputs": [
    {
     "name": "stdout",
     "output_type": "stream",
     "text": [
      "Distribution Compatibility Status: INCOMPATIBLE\n",
      "Writing to file: 'inequality_output.json'\n"
     ]
    },
    {
     "data": {
      "text/plain": [
       "dict_keys(['Order of variables', 'Raw rolver output', 'Inequality as string', 'Coefficients grouped by index', 'Coefficients grouped by symbol', 'Clean solver output', 'Symolic association'])"
      ]
     },
     "execution_count": 32,
     "metadata": {},
     "output_type": "execute_result"
    }
   ],
   "source": [
    "from inflation.certificate import Inequality\n",
    "solveroutputcleanedup=Inequality(Graph,inflation_order,card,\n",
    "           SparseInflationMatrix,MarginalVector,Sol)\n",
    "solveroutputcleanedup.keys()\n",
    "\n",
    "#NOTE: The distribution is *compatible*. We should edit the Inequality function to make a better assessment."
   ]
  },
  {
   "cell_type": "code",
   "execution_count": 34,
   "metadata": {
    "collapsed": true,
    "jupyter": {
     "outputs_hidden": true
    }
   },
   "outputs": [
    {
     "data": {
      "text/plain": [
       "defaultdict(list,\n",
       "            {'761000': ['P(0000)P(0001)',\n",
       "              'P(0000)P(0010)',\n",
       "              'P(0100)P(0101)',\n",
       "              'P(0100)P(0110)',\n",
       "              'P(1001)P(1011)',\n",
       "              'P(1010)P(1011)',\n",
       "              'P(1101)P(1111)',\n",
       "              'P(1110)P(1111)'],\n",
       "             '2402092': ['P(0000)P(0011)',\n",
       "              'P(0100)P(0111)',\n",
       "              'P(1000)P(1011)',\n",
       "              'P(1100)P(1111)'],\n",
       "             '2537360': ['P(0000)P(0101)',\n",
       "              'P(0000)P(0110)',\n",
       "              'P(0001)P(0100)',\n",
       "              'P(0010)P(0100)',\n",
       "              'P(1001)P(1111)',\n",
       "              'P(1010)P(1111)',\n",
       "              'P(1011)P(1101)',\n",
       "              'P(1011)P(1110)'],\n",
       "             '2175286': ['P(0000)P(0111)', 'P(0011)P(0100)'],\n",
       "             '18824516': ['P(0000)P(1000)',\n",
       "              'P(0011)P(1011)',\n",
       "              'P(0100)P(1100)',\n",
       "              'P(0111)P(1111)'],\n",
       "             '17360364': ['P(0000)P(1001)',\n",
       "              'P(0000)P(1010)',\n",
       "              'P(0001)P(1011)',\n",
       "              'P(0010)P(1011)'],\n",
       "             '-2': ['P(0000)P(1011)'],\n",
       "             '1286548': ['P(0000)P(1100)',\n",
       "              'P(0011)P(1111)',\n",
       "              'P(0100)P(1000)',\n",
       "              'P(0111)P(1011)'],\n",
       "             '1725850': ['P(0000)P(1101)',\n",
       "              'P(0000)P(1110)',\n",
       "              'P(0001)P(1111)',\n",
       "              'P(0010)P(1111)',\n",
       "              'P(0100)P(1001)',\n",
       "              'P(0100)P(1010)',\n",
       "              'P(0101)P(1011)',\n",
       "              'P(0110)P(1011)'],\n",
       "             '298390': ['P(0001)**2',\n",
       "              'P(0010)**2',\n",
       "              'P(0110)**2',\n",
       "              'P(1001)**2',\n",
       "              'P(1010)**2',\n",
       "              'P(1101)**2'],\n",
       "             '2578434': ['P(0001)P(0010)', 'P(1101)P(1110)'],\n",
       "             '361892': ['P(0001)P(0011)',\n",
       "              'P(0010)P(0011)',\n",
       "              'P(0101)P(0111)',\n",
       "              'P(0110)P(0111)',\n",
       "              'P(1000)P(1001)',\n",
       "              'P(1000)P(1010)',\n",
       "              'P(1100)P(1101)',\n",
       "              'P(1100)P(1110)'],\n",
       "             '2495206': ['P(0001)P(0101)', 'P(0010)P(0110)', 'P(1001)P(1101)'],\n",
       "             '2080098': ['P(0001)P(0110)', 'P(1001)P(1110)', 'P(1010)P(1101)'],\n",
       "             '2103934': ['P(0001)P(0111)', 'P(0010)P(0111)', 'P(1001)P(1100)'],\n",
       "             '18410762': ['P(0001)P(1000)',\n",
       "              'P(0010)P(1000)',\n",
       "              'P(0011)P(1001)',\n",
       "              'P(0011)P(1010)'],\n",
       "             '19105986': ['P(0001)P(1001)', 'P(0010)P(1010)'],\n",
       "             '18580976': ['P(0001)P(1010)'],\n",
       "             '2456840': ['P(0001)P(1100)',\n",
       "              'P(0010)P(1100)',\n",
       "              'P(0011)P(1101)',\n",
       "              'P(0101)P(1000)',\n",
       "              'P(0110)P(1000)',\n",
       "              'P(0111)P(1001)',\n",
       "              'P(0111)P(1010)'],\n",
       "             '3062900': ['P(0001)P(1101)', 'P(0101)P(1001)'],\n",
       "             '2831786': ['P(0001)P(1110)',\n",
       "              'P(0010)P(1101)',\n",
       "              'P(0101)P(1010)',\n",
       "              'P(0110)P(1001)'],\n",
       "             '2080100': ['P(0010)P(0101)'],\n",
       "             '18580986': ['P(0010)P(1001)',\n",
       "              'P(0101)P(1110)',\n",
       "              'P(0110)P(1101)'],\n",
       "             '3062898': ['P(0010)P(1110)', 'P(0110)P(1010)'],\n",
       "             '308600': ['P(0011)**2',\n",
       "              'P(0111)**2',\n",
       "              'P(1000)**2',\n",
       "              'P(1100)**2'],\n",
       "             '2103932': ['P(0011)P(0101)',\n",
       "              'P(0011)P(0110)',\n",
       "              'P(1000)P(1101)',\n",
       "              'P(1000)P(1110)',\n",
       "              'P(1010)P(1100)'],\n",
       "             '2127186': ['P(0011)P(0111)'],\n",
       "             '19521754': ['P(0011)P(1000)'],\n",
       "             '2443734': ['P(0011)P(1100)', 'P(0111)P(1000)'],\n",
       "             '2456842': ['P(0011)P(1110)'],\n",
       "             '17360366': ['P(0100)P(1101)',\n",
       "              'P(0100)P(1110)',\n",
       "              'P(0101)P(1111)',\n",
       "              'P(0110)P(1111)'],\n",
       "             '2': ['P(0100)P(1111)'],\n",
       "             '298389': ['P(0101)**2', 'P(1110)**2'],\n",
       "             '2578436': ['P(0101)P(0110)', 'P(1001)P(1010)'],\n",
       "             '18410764': ['P(0101)P(1100)',\n",
       "              'P(0110)P(1100)',\n",
       "              'P(0111)P(1101)',\n",
       "              'P(0111)P(1110)'],\n",
       "             '19105988': ['P(0101)P(1101)', 'P(0110)P(1110)'],\n",
       "             '19521756': ['P(0111)P(1100)'],\n",
       "             '2127188': ['P(1000)P(1100)'],\n",
       "             '2175290': ['P(1000)P(1111)'],\n",
       "             '2495204': ['P(1010)P(1110)'],\n",
       "             '2175288': ['P(1011)P(1100)']})"
      ]
     },
     "execution_count": 34,
     "metadata": {},
     "output_type": "execute_result"
    }
   ],
   "source": [
    "solveroutputcleanedup['Coefficients grouped by symbol']"
   ]
  }
 ],
 "metadata": {
  "kernelspec": {
   "display_name": "idp",
   "language": "python",
   "name": "idp"
  },
  "language_info": {
   "codemirror_mode": {
    "name": "ipython",
    "version": 3
   },
   "file_extension": ".py",
   "mimetype": "text/x-python",
   "name": "python",
   "nbconvert_exporter": "python",
   "pygments_lexer": "ipython3",
   "version": "3.7.9"
  }
 },
 "nbformat": 4,
 "nbformat_minor": 4
}
