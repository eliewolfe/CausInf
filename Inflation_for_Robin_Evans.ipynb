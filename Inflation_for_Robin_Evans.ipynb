{
 "cells": [
  {
   "cell_type": "code",
   "execution_count": 17,
   "metadata": {
    "collapsed": false,
    "jupyter": {
     "outputs_hidden": false
    },
    "pycharm": {
     "name": "#%%\n"
    }
   },
   "outputs": [],
   "source": [
    "from __future__ import absolute_import\n",
    "\n",
    "%reload_ext autoreload\n",
    "from igraph import Graph\n",
    "import numpy as np\n",
    "#import time\n",
    "#from numba import njit\n",
    "from scipy.sparse import coo_matrix, dok_matrix, csr_matrix\n",
    "#from collections import defaultdict\n",
    "#import json\n",
    "import importlib\n",
    "\n",
    "import os\n",
    "os.environ['PYTHONUNBUFFERED'] = '1'"
   ]
  },
  {
   "cell_type": "code",
   "execution_count": 18,
   "metadata": {},
   "outputs": [],
   "source": [
    "def ListOfBitStringsToListOfIntegers(list_of_bitstrings):\n",
    "    return list(map(lambda s: int(s,2),list_of_bitstrings))\n",
    "def UniformDistributionFromSupport(list_of_bitstrings):\n",
    "    numvar = max(map(len,list_of_bitstrings))\n",
    "    numevents = len(list_of_bitstrings)\n",
    "    data = np.zeros(2 ** numvar)\n",
    "    data[ListOfBitStringsToListOfIntegers(list_of_bitstrings)] = 1/numevents\n",
    "    return data"
   ]
  },
  {
   "cell_type": "code",
   "execution_count": 19,
   "metadata": {},
   "outputs": [],
   "source": [
    "#Some graphs and data sets to play with\n",
    "InstrumentalGraph = Graph.Formula(\"U1->X->A->B,U2->A:B\")\n",
    "BiconfoundingGraph = Graph.Formula(\"U1->A:B,U2->A:C,A->B:C\")\n",
    "Evans14a = Graph.Formula(\"U1->A:C,U2->A:B:D,U3->B:C:D,A->B,C->D\")\n",
    "Evans14b = Graph.Formula(\"U1->A:C,U2->B:C:D,U3->A:D,A->B,B:C->D\")\n",
    "Evans14c = Graph.Formula(\"U1->A:C,U2->B:D,U3->A:D,A->B->C->D\")\n",
    "IceCreamGraph = Graph.Formula(\"U1->A,U2->B:D,U3->C:D,A->B:C,B->D\")\n",
    "BiconfoundingInstrumental = Graph.Formula(\"U1->A,U2->B:C,U3->B:D,A->B,B->C:D\")\n",
    "TriangleGraph = Graph.Formula(\"X->A,Y->A:B,Z->B:C,X->C\")\n",
    "\n",
    "\n",
    "#NOTE: Our inflation algorithm will always assume that the order of variables in the data set\n",
    "# matches the lexocographic ordering of the non-root variables in the graph.\n",
    "\n",
    "TriangleData=[0.12199995751046305, 0.0022969343799089472, 0.001748319476328954, 3.999015242496535e-05, 0.028907881434196828, 0.0005736087488455967, 0.0003924033706699725, 1.1247230369521505e-05, 0.0030142577390317635, 0.09234476010282468, 4.373922921480586e-05, 0.0014533921021948346, 0.0007798079722868244, 0.024091567451515063, 1.1247230369521505e-05, 0.0003849052170902915, 0.020774884184769502, 0.000396152447459813, 0.0003049249122403608, 4.998769053120669e-06, 0.10820335492385, 0.0020794879260981982, 0.0015546171755205281, 2.4993845265603346e-05, 0.0006260958239033638, 0.020273757587194154, 7.498153579681003e-06, 0.0003374169110856452, 0.0028942872817568676, 0.08976414557915113, 2.624353752888351e-05, 0.0012984302615480939, 0.002370666223442477, 4.7488306004646356e-05, 0.0999928767540993, 0.001957018084296742, 0.0006198473625869629, 8.747845842961171e-06, 0.02636975644747481, 0.0005198719815245496, 1.4996307159362007e-05, 0.000403650601039494, 0.0005498645958432735, 0.017359475229224805, 7.123245900696953e-05, 0.002346922070440154, 0.0033754188031197316, 0.10295964618712641, 0.00038740460161685187, 7.498153579681003e-06, 0.01608353942841575, 0.000306174604503641, 0.0021319750011559654, 4.248953695152569e-05, 0.09107007399427891, 0.001860791780024169, 5.998522863744803e-05, 0.0018395470115484063, 0.002570616985567304, 0.0766411271224461, 1.874538394920251e-05, 0.00048238121362614454, 0.0006410921310627258, 0.020223769896662948]\n",
    "InstrumentalData=UniformDistributionFromSupport(['000','011'])\n",
    "BiconfoundingData=UniformDistributionFromSupport(['000','011'])\n",
    "BiconfoundingInstrumentalData=UniformDistributionFromSupport(['0000','0100','1011','1111'])\n",
    "Evans14aData=UniformDistributionFromSupport(['0000','1001','1111'])\n",
    "Evans14bData=UniformDistributionFromSupport(['0000','1001','1111'])\n",
    "Evans14cData=UniformDistributionFromSupport(['0000','1101','1011'])\n",
    "IceCreamData=UniformDistributionFromSupport(['0000','1111','1010','0011'])"
   ]
  },
  {
   "cell_type": "code",
   "execution_count": 20,
   "metadata": {},
   "outputs": [
    {
     "name": "stdout",
     "output_type": "stream",
     "text": [
      "For the graph who's parental structure is given by:\n",
      "['U1:U3->A', 'U2:A->B', 'U1:U2->C', 'U2:U3:B:C->D']\n",
      "We utilize the following ordering of variables: [U1,U2,U3,A,B,C,D]\n",
      "We identify the following screening-off relationships relevant to enforcing determinism:\n",
      "Sets given as (U1s,Y,Xs) with the following meaning:\n",
      "Ys are screened off from U1s by Xs.\n",
      "([U1],[B],[A])\n",
      "([U3],[B],[A])\n",
      "([U1,U3],[B],[A])\n",
      "([U1],[D],[B,C])\n",
      "We identify the following screening-off non-ai expressible sets:\n",
      "Sets given as (Y,Xs,Zs,U3s) with the following meaning:\n",
      "Ys are screened off from Zs by Xs when U3s is different for (Y,Xs) vs Zs.\n",
      "([B],[A],[C],[U2])\n",
      "([B],[A],[C,D],[U2])\n",
      "────────────────────────────────────────────────────────────────────────────────\n",
      "\n"
     ]
    }
   ],
   "source": [
    "#Set as desired.\n",
    "#g=BiconfoundingGraph\n",
    "#data=BiconfoundingData\n",
    "#g=BiconfoundingInstrumental\n",
    "#data=BiconfoundingInstrumentalData\n",
    "#g = InstrumentalGraph\n",
    "#data = InstrumentalData\n",
    "g = Evans14b\n",
    "data = Evans14bData\n",
    "#g = IceCreamGraph\n",
    "#data = IceCreamData\n",
    "\n",
    "\n",
    "card=2\n",
    "inflation_order=2\n",
    "from inflation.quickgraph import QuickGraphAssessment\n",
    "QuickGraphAssessment(g)"
   ]
  },
  {
   "cell_type": "code",
   "execution_count": 21,
   "metadata": {},
   "outputs": [
    {
     "name": "stdout",
     "output_type": "stream",
     "text": [
      "['A', 'B', 'C', 'D']\n",
      "(['B'], ['A'], ['C'])\n",
      "(['B'], ['A'], ['C', 'D'])\n"
     ]
    },
    {
     "data": {
      "text/plain": "(160, 187680)"
     },
     "execution_count": 21,
     "metadata": {},
     "output_type": "execute_result"
    }
   ],
   "source": [
    "from inflation.inflationmatrix import InflationMatrixFromGraph, NumericalAndSymbolicVectorsFromGraph\n",
    "InfMat = InflationMatrixFromGraph(g, inflation_order, card, extra_expressible=True)\n",
    "B_numeric, B_symbolic = NumericalAndSymbolicVectorsFromGraph(g, data, inflation_order, card, extra_expressible=True)\n",
    "\n",
    "InfMat.shape"
   ]
  },
  {
   "cell_type": "code",
   "execution_count": 22,
   "metadata": {
    "pycharm": {
     "name": "#%%\n"
    }
   },
   "outputs": [
    {
     "name": "stdout",
     "output_type": "stream",
     "text": [
      "Inferred primal variable count: 160\n",
      "Inferred dual variable count: 187680\n",
      "LP constructed, initiated optimizer.\n",
      "Open file 'mosek_prob.jtask'\n",
      "Start writing.\n",
      "done writing. Time: 0.17\n",
      "\n",
      "Problem\n",
      "  Name                   :                 \n",
      "  Objective sense        : min             \n",
      "  Type                   : LO (linear optimization problem)\n",
      "  Constraints            : 187681          \n",
      "  Cones                  : 0               \n",
      "  Scalar variables       : 160             \n",
      "  Matrix variables       : 0               \n",
      "  Integer variables      : 0               \n",
      "\n",
      "Optimizer started.\n",
      "Problem\n",
      "  Name                   :                 \n",
      "  Objective sense        : min             \n",
      "  Type                   : LO (linear optimization problem)\n",
      "  Constraints            : 187681          \n",
      "  Cones                  : 0               \n",
      "  Scalar variables       : 160             \n",
      "  Matrix variables       : 0               \n",
      "  Integer variables      : 0               \n",
      "\n",
      "Optimizer  - threads                : 6               \n",
      "Optimizer  - solved problem         : the dual        \n",
      "Optimizer  - Constraints            : 160\n",
      "Optimizer  - Cones                  : 0\n",
      "Optimizer  - Scalar variables       : 375522            conic                  : 0               \n",
      "Optimizer  - Semi-definite variables: 0                 scalarized             : 0               \n",
      "Factor     - setup time             : 0.14              dense det. time        : 0.00            \n",
      "Factor     - ML order time          : 0.00              GP order time          : 0.00            \n",
      "Factor     - nonzeros before factor : 1.29e+04          after factor           : 1.29e+04        \n",
      "Factor     - dense dim.             : 0                 flops                  : 3.79e+06        \n",
      "ITE PFEAS    DFEAS    GFEAS    PRSTATUS   POBJ              DOBJ              MU       TIME  \n",
      "0   9.9e+03  2.2e+01  7.6e+06  0.00e+00   -3.000000000e+00  -3.477665784e+05  4.8e+02  0.28  \n",
      "1   9.6e+03  2.1e+01  7.4e+06  1.03e+00   -2.881552515e+00  -3.348488702e+05  4.6e+02  0.34  \n",
      "2   9.6e+03  2.1e+01  7.3e+06  5.48e-01   -2.925602289e+00  -3.388675323e+05  4.6e+02  0.38  \n",
      "3   9.5e+03  2.1e+01  7.3e+06  5.88e-01   -2.843207385e+00  -3.305027790e+05  4.6e+02  0.41  \n",
      "4   6.8e+03  1.5e+01  5.2e+06  5.21e-01   -2.014835698e+00  -2.366282607e+05  3.3e+02  0.44  \n",
      "5   1.6e+03  3.5e+00  1.2e+06  5.71e-01   -4.321710989e-01  -6.040273009e+04  7.5e+01  0.47  \n",
      "6   3.7e+02  8.2e-01  2.8e+05  9.43e-01   -5.098599519e-02  -1.390677868e+04  1.8e+01  0.52  \n",
      "7   6.9e+01  1.5e-01  5.3e+04  1.20e+00   3.931515033e-02   -2.339492209e+03  3.3e+00  0.55  \n",
      "8   8.9e-01  1.9e-03  6.8e+02  1.05e+00   5.730750168e-02   -2.918725697e+01  4.2e-02  0.58  \n",
      "9   4.6e-03  1.1e-04  3.8e+01  1.00e+00   5.187248262e-02   -1.579601416e+00  2.3e-03  0.61  \n",
      "10  3.2e-03  3.5e-05  1.1e+01  1.00e+00   3.012624945e-02   -4.397696839e-01  6.8e-04  0.66  \n",
      "11  2.7e-03  3.4e-05  1.0e+01  1.00e+00   2.711660878e-02   -4.254746346e-01  6.5e-04  0.69  \n",
      "12  2.0e-03  1.4e-04  9.9e+00  1.01e+00   2.103493110e-02   -4.076720082e-01  6.2e-04  0.73  \n",
      "13  1.7e-03  1.9e-03  8.4e+00  1.03e+00   1.533607904e-02   -3.380292222e-01  5.5e-04  0.78  \n",
      "14  9.7e-04  1.5e-02  1.4e+00  1.03e+00   4.333871083e-03   5.694805268e-02   2.9e-04  0.83  \n",
      "15  7.8e-05  1.9e-03  1.7e-01  1.00e+00   4.838529622e-04   7.011164306e-03   3.6e-05  0.86  \n",
      "16  4.8e-07  1.2e-05  2.6e-04  1.00e+00   2.939615817e-06   -7.115628318e-06  2.2e-07  0.91  \n",
      "17  4.8e-07  1.2e-05  2.6e-04  1.00e+00   2.939615817e-06   -7.115628318e-06  2.2e-07  0.95  \n",
      "18  2.4e-09  6.3e-08  1.3e-06  1.00e+00   1.499070734e-08   -3.627621359e-08  1.1e-09  1.05  \n",
      "19  1.9e-11  3.2e-10  6.8e-09  1.00e+00   7.644551658e-11   -1.852771270e-10  5.7e-12  1.16  \n",
      "Optimizer terminated. Time: 1.20    \n",
      "\n",
      "Open file 'mosek_sol.json'\n",
      "\n",
      "Interior-point solution summary\n",
      "  Problem status  : PRIMAL_AND_DUAL_FEASIBLE\n",
      "  Solution status : OPTIMAL\n",
      "  Primal.  obj: 7.6445356218e-11    nrm: 1e+00    Viol.  con: 2e-13    var: 0e+00  \n",
      "  Dual.    obj: -3.0389915375e-09   nrm: 4e-02    Viol.  con: 2e-18    var: 6e-11  \n",
      "Problem status: prosta.prim_and_dual_feas\n",
      "Solution status: solsta.optimal\n",
      "\n",
      "Coefficient Range: [2.7560176363294886e-12, 0.10330313108572997]\n"
     ]
    }
   ],
   "source": [
    "from inflation.moseklp import InfeasibilityCertificate\n",
    "from inflation.mosekinfeas import InfeasibilityCertificateAUTO #Different internal LP construction, formally same LP\n",
    "\n",
    "Sol=InfeasibilityCertificate(\n",
    "    InfMat,\n",
    "    B_numeric)"
   ]
  },
  {
   "cell_type": "code",
   "execution_count": 23,
   "metadata": {},
   "outputs": [
    {
     "name": "stdout",
     "output_type": "stream",
     "text": [
      "Distribution Compatibility Status: INCOMPATIBLE\n",
      "Writing to file: 'inequality_output.json'\n"
     ]
    },
    {
     "data": {
      "text/plain": "dict_keys(['Raw rolver output', 'Coefficients grouped by index', 'Coefficients grouped by symbol', 'Clean solver output'])"
     },
     "execution_count": 23,
     "metadata": {},
     "output_type": "execute_result"
    }
   ],
   "source": [
    "from inflation.certificate import Inequality\n",
    "solveroutputcleanedup=Inequality(InfMat,\n",
    "                                 B_numeric,\n",
    "                                 B_symbolic,\n",
    "                                 Sol)\n",
    "solveroutputcleanedup.keys()\n"
   ]
  },
  {
   "cell_type": "code",
   "execution_count": 24,
   "metadata": {},
   "outputs": [
    {
     "data": {
      "text/plain": "defaultdict(list,\n            {'1': ['P(0000)P(0000)',\n              '2*P(0000)P(1111)',\n              'P(1001)P(1001)',\n              '2*P(1001)P(1111)',\n              'P[A|B](1|0)P[CD|B](11|0)P[B](0)'],\n             '269769104': ['2*P(0000)P(0001)'],\n             '836008751': ['2*P(0000)P(0010)'],\n             '832276567': ['2*P(0000)P(0011)'],\n             '719629615': ['2*P(0000)P(0100)'],\n             '732436353': ['2*P(0000)P(0101)'],\n             '661957798': ['2*P(0000)P(0110)'],\n             '658478030': ['2*P(0000)P(0111)'],\n             '1358199353': ['2*P(0000)P(1000)'],\n             '2': ['2*P(0000)P(1001)', 'P(1111)P(1111)'],\n             '1315592493': ['2*P(0000)P(1010)'],\n             '1289099476': ['2*P(0000)P(1011)'],\n             '1258878076': ['2*P(0000)P(1100)'],\n             '1113807566': ['2*P(0000)P(1101)'],\n             '1390769665': ['2*P(0000)P(1110)'],\n             '1539535823': ['P(0001)P(0001)'],\n             '836325653': ['2*P(0001)P(0010)'],\n             '845498300': ['2*P(0001)P(0011)'],\n             '767280231': ['2*P(0001)P(0100)'],\n             '805565775': ['2*P(0001)P(0101)'],\n             '622871967': ['2*P(0001)P(0110)'],\n             '704247677': ['2*P(0001)P(0111)'],\n             '1335882309': ['2*P(0001)P(1000)'],\n             '1308883464': ['2*P(0001)P(1001)'],\n             '1214542956': ['2*P(0001)P(1010)'],\n             '1290906081': ['2*P(0001)P(1011)'],\n             '1279748991': ['2*P(0001)P(1100)'],\n             '1213343418': ['2*P(0001)P(1101)'],\n             '1357359663': ['2*P(0001)P(1110)'],\n             '1394719188': ['2*P(0001)P(1111)'],\n             '-2147483648': ['P(0010)P(0010)',\n              'P(0011)P(0011)',\n              'P(1100)P(1100)',\n              'P(1101)P(1101)',\n              'P[A|B](0|0)P[C|B](1|0)P[B](0)',\n              'P[A|B](0|1)P[C|B](0|1)P[B](1)',\n              'P[A|B](0|1)P[C|B](1|1)P[B](1)',\n              'P[A|B](0|0)P[CD|B](01|0)P[B](0)',\n              'P[A|B](0|0)P[CD|B](10|0)P[B](0)',\n              'P[A|B](0|0)P[CD|B](11|0)P[B](0)',\n              'P[A|B](0|1)P[CD|B](00|1)P[B](1)',\n              'P[A|B](0|1)P[CD|B](01|1)P[B](1)',\n              'P[A|B](0|1)P[CD|B](10|1)P[B](1)',\n              'P[A|B](0|1)P[CD|B](11|1)P[B](1)',\n              'P[A|B](1|0)P[CD|B](00|0)P[B](0)',\n              'P[A|B](1|0)P[CD|B](10|0)P[B](0)',\n              'P[A|B](1|1)P[CD|B](00|1)P[B](1)',\n              'P[A|B](1|1)P[CD|B](10|1)P[B](1)'],\n             '761368231': ['2*P(0010)P(0011)'],\n             '815934593': ['2*P(0010)P(0100)'],\n             '888038316': ['2*P(0010)P(0101)'],\n             '667599336': ['2*P(0010)P(0110)'],\n             '736419851': ['2*P(0010)P(0111)'],\n             '1301434653': ['2*P(0010)P(1000)'],\n             '1333854410': ['2*P(0010)P(1001)'],\n             '1130824147': ['2*P(0010)P(1010)'],\n             '1230260067': ['2*P(0010)P(1011)'],\n             '1296944635': ['2*P(0010)P(1100)'],\n             '1290749018': ['2*P(0010)P(1101)'],\n             '1238441416': ['2*P(0010)P(1110)'],\n             '1283454702': ['2*P(0010)P(1111)'],\n             '884349461': ['2*P(0011)P(0100)'],\n             '800474541': ['2*P(0011)P(0101)'],\n             '679708150': ['2*P(0011)P(0110)'],\n             '752639226': ['2*P(0011)P(0111)'],\n             '1202143320': ['2*P(0011)P(1000)'],\n             '1278274359': ['2*P(0011)P(1001)'],\n             '1285005395': ['2*P(0011)P(1010)'],\n             '1164064740': ['2*P(0011)P(1011)'],\n             '1297367434': ['2*P(0011)P(1100)'],\n             '1327237597': ['2*P(0011)P(1101)'],\n             '1115390776': ['2*P(0011)P(1110)'],\n             '1298182965': ['2*P(0011)P(1111)'],\n             '1866375454': ['P(0100)P(0100)'],\n             '379329894': ['2*P(0100)P(0101)'],\n             '657033507': ['2*P(0100)P(0110)'],\n             '707181197': ['2*P(0100)P(0111)'],\n             '1179880291': ['2*P(0100)P(1000)'],\n             '1158952682': ['2*P(0100)P(1001)'],\n             '1237745419': ['2*P(0100)P(1010)'],\n             '1293746069': ['2*P(0100)P(1011)'],\n             '1058332719': ['2*P(0100)P(1100)'],\n             '1178554999': ['2*P(0100)P(1101)'],\n             '1307444469': ['2*P(0100)P(1110)'],\n             '1330023367': ['2*P(0100)P(1111)'],\n             '1900467300': ['P(0101)P(0101)'],\n             '666097906': ['2*P(0101)P(0110)'],\n             '708383057': ['2*P(0101)P(0111)'],\n             '1220557135': ['2*P(0101)P(1000)'],\n             '1171292997': ['2*P(0101)P(1001)'],\n             '1334546741': ['2*P(0101)P(1010)'],\n             '1358307629': ['2*P(0101)P(1011)'],\n             '1176011539': ['2*P(0101)P(1100)'],\n             '1082407982': ['2*P(0101)P(1101)'],\n             '1276870085': ['2*P(0101)P(1110)'],\n             '1330584944': ['2*P(0101)P(1111)'],\n             '1634824243': ['P(0110)P(0110)'],\n             '193823484': ['2*P(0110)P(0111)'],\n             '1265257144': ['2*P(0110)P(1000)'],\n             '1236211297': ['2*P(0110)P(1001)'],\n             '1179452462': ['2*P(0110)P(1010)'],\n             '1102227005': ['2*P(0110)P(1011)'],\n             '1234049319': ['2*P(0110)P(1100)'],\n             '1211881036': ['2*P(0110)P(1101)'],\n             '1113640655': ['2*P(0110)P(1110)'],\n             '1205691216': ['2*P(0110)P(1111)'],\n             '1644059604': ['P(0111)P(0111)'],\n             '1168893122': ['2*P(0111)P(1000)'],\n             '1260027317': ['2*P(0111)P(1001)'],\n             '1181748317': ['2*P(0111)P(1010)'],\n             '1158242815': ['2*P(0111)P(1011)'],\n             '1248312046': ['2*P(0111)P(1100)'],\n             '1196882308': ['2*P(0111)P(1101)'],\n             '1155000869': ['2*P(0111)P(1110)'],\n             '1204735853': ['2*P(0111)P(1111)'],\n             '1725606414': ['P(1000)P(1000)'],\n             '309640250': ['2*P(1000)P(1001)'],\n             '719894020': ['2*P(1000)P(1010)'],\n             '722020112': ['2*P(1000)P(1011)'],\n             '818165290': ['2*P(1000)P(1100)'],\n             '854967153': ['2*P(1000)P(1101)'],\n             '667796705': ['2*P(1000)P(1110)'],\n             '722267598': ['2*P(1000)P(1111)'],\n             '755299241': ['2*P(1001)P(1010)'],\n             '756704957': ['2*P(1001)P(1011)'],\n             '754272038': ['2*P(1001)P(1100)'],\n             '773948849': ['2*P(1001)P(1101)'],\n             '689929825': ['2*P(1001)P(1110)'],\n             '2127713936': ['P(1010)P(1010)'],\n             '552307342': ['2*P(1010)P(1011)'],\n             '828647699': ['2*P(1010)P(1100)'],\n             '862537308': ['2*P(1010)P(1101)'],\n             '580193090': ['2*P(1010)P(1110)'],\n             '722815046': ['2*P(1010)P(1111)'],\n             '2128958379': ['P(1011)P(1011)'],\n             '849666671': ['2*P(1011)P(1100)'],\n             '840768895': ['2*P(1011)P(1101)'],\n             '580524679': ['2*P(1011)P(1110)'],\n             '685452220': ['2*P(1011)P(1111)'],\n             '711425169': ['2*P(1100)P(1101)'],\n             '776495780': ['2*P(1100)P(1110)'],\n             '831761703': ['2*P(1100)P(1111)'],\n             '769380751': ['2*P(1101)P(1110)'],\n             '817839289': ['2*P(1101)P(1111)'],\n             '1357381999': ['P(1110)P(1110)'],\n             '207436561': ['2*P(1110)P(1111)'],\n             '5': ['P[A|B](0|0)P[C|B](0|0)P[B](0)'],\n             '27': ['P[A|B](1|0)P[C|B](0|0)P[B](0)'],\n             '16': ['P[A|B](1|0)P[C|B](1|0)P[B](0)'],\n             '15': ['P[A|B](1|1)P[C|B](0|1)P[B](1)',\n              'P[A|B](0|0)P[CD|B](00|0)P[B](0)'],\n             '12': ['P[A|B](1|1)P[C|B](1|1)P[B](1)'],\n             '14': ['P[A|B](1|0)P[CD|B](01|0)P[B](0)'],\n             '11': ['P[A|B](1|1)P[CD|B](01|1)P[B](1)'],\n             '21': ['P[A|B](1|1)P[CD|B](11|1)P[B](1)']})"
     },
     "execution_count": 24,
     "metadata": {},
     "output_type": "execute_result"
    }
   ],
   "source": [
    "solveroutputcleanedup['Coefficients grouped by symbol']"
   ]
  },
  {
   "cell_type": "code",
   "execution_count": 24,
   "metadata": {
    "collapsed": false,
    "jupyter": {
     "outputs_hidden": false
    },
    "pycharm": {
     "name": "#%%\n"
    }
   },
   "outputs": [],
   "source": []
  }
 ],
 "metadata": {
  "kernelspec": {
   "display_name": "idp",
   "language": "python",
   "name": "idp"
  },
  "language_info": {
   "codemirror_mode": {
    "name": "ipython",
    "version": 3
   },
   "file_extension": ".py",
   "mimetype": "text/x-python",
   "name": "python",
   "nbconvert_exporter": "python",
   "pygments_lexer": "ipython3",
   "version": "3.7.9"
  }
 },
 "nbformat": 4,
 "nbformat_minor": 4
}