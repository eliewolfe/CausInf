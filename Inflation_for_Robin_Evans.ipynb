{
 "cells": [
  {
   "cell_type": "code",
   "execution_count": 1,
   "metadata": {
    "collapsed": false,
    "jupyter": {
     "outputs_hidden": false
    },
    "pycharm": {
     "name": "#%%\n"
    }
   },
   "outputs": [],
   "source": [
    "from __future__ import absolute_import\n",
    "\n",
    "%reload_ext autoreload\n",
    "from igraph import Graph\n",
    "import numpy as np\n",
    "#import time\n",
    "#from numba import njit\n",
    "from scipy.sparse import coo_matrix, dok_matrix, csr_matrix\n",
    "#from collections import defaultdict\n",
    "#import json\n",
    "import importlib\n",
    "\n",
    "import os\n",
    "os.environ['PYTHONUNBUFFERED'] = '1'"
   ]
  },
  {
   "cell_type": "code",
   "execution_count": 2,
   "metadata": {},
   "outputs": [],
   "source": [
    "def ListOfBitStringsToListOfIntegers(list_of_bitstrings):\n",
    "    return list(map(lambda s: int(s,2),list_of_bitstrings))\n",
    "def UniformDistributionFromSupport(list_of_bitstrings):\n",
    "    numvar = max(map(len,list_of_bitstrings))\n",
    "    numevents = len(list_of_bitstrings)\n",
    "    data = np.zeros(2 ** numvar)\n",
    "    data[ListOfBitStringsToListOfIntegers(list_of_bitstrings)] = 1/numevents\n",
    "    return data"
   ]
  },
  {
   "cell_type": "code",
   "execution_count": 3,
   "metadata": {},
   "outputs": [],
   "source": [
    "#Some graphs and data sets to play with\n",
    "InstrumentalGraph = Graph.Formula(\"U1->X->A->B,U2->A:B\")\n",
    "BiconfoundingGraph = Graph.Formula(\"U1->A:B,U2->A:C,A->B:C\")\n",
    "Evans14a = Graph.Formula(\"U1->A:C,U2->A:B:D,U3->B:C:D,A->B,C->D\")\n",
    "Evans14b = Graph.Formula(\"U1->A:C,U2->B:C:D,U3->A:D,A->B,B:C->D\")\n",
    "Evans14c = Graph.Formula(\"U1->A:C,U2->B:D,U3->A:D,A->B->C->D\")\n",
    "IceCreamGraph = Graph.Formula(\"U1->A,U2->B:D,U3->C:D,A->B:C,B->D\")\n",
    "BiconfoundingInstrumental = Graph.Formula(\"U1->A,U2->B:C,U3->B:D,A->B,B->C:D\")\n",
    "TriangleGraph = Graph.Formula(\"X->A,Y->A:B,Z->B:C,X->C\")\n",
    "\n",
    "\n",
    "\n",
    "TriangleData=[0.12199995751046305, 0.0022969343799089472, 0.001748319476328954, 3.999015242496535e-05, 0.028907881434196828, 0.0005736087488455967, 0.0003924033706699725, 1.1247230369521505e-05, 0.0030142577390317635, 0.09234476010282468, 4.373922921480586e-05, 0.0014533921021948346, 0.0007798079722868244, 0.024091567451515063, 1.1247230369521505e-05, 0.0003849052170902915, 0.020774884184769502, 0.000396152447459813, 0.0003049249122403608, 4.998769053120669e-06, 0.10820335492385, 0.0020794879260981982, 0.0015546171755205281, 2.4993845265603346e-05, 0.0006260958239033638, 0.020273757587194154, 7.498153579681003e-06, 0.0003374169110856452, 0.0028942872817568676, 0.08976414557915113, 2.624353752888351e-05, 0.0012984302615480939, 0.002370666223442477, 4.7488306004646356e-05, 0.0999928767540993, 0.001957018084296742, 0.0006198473625869629, 8.747845842961171e-06, 0.02636975644747481, 0.0005198719815245496, 1.4996307159362007e-05, 0.000403650601039494, 0.0005498645958432735, 0.017359475229224805, 7.123245900696953e-05, 0.002346922070440154, 0.0033754188031197316, 0.10295964618712641, 0.00038740460161685187, 7.498153579681003e-06, 0.01608353942841575, 0.000306174604503641, 0.0021319750011559654, 4.248953695152569e-05, 0.09107007399427891, 0.001860791780024169, 5.998522863744803e-05, 0.0018395470115484063, 0.002570616985567304, 0.0766411271224461, 1.874538394920251e-05, 0.00048238121362614454, 0.0006410921310627258, 0.020223769896662948]\n",
    "InstrumentalData=UniformDistributionFromSupport(['000','101'])\n",
    "BiconfoundingData=UniformDistributionFromSupport(['000','011'])\n",
    "BiconfoundingInstrumentalData=UniformDistributionFromSupport(['0000','0100','1011','1111'])"
   ]
  },
  {
   "cell_type": "code",
   "execution_count": 4,
   "metadata": {},
   "outputs": [],
   "source": [
    "#Set as desired.\n",
    "#g=BiconfoundingGraph\n",
    "#data=BiconfoundingData\n",
    "g=BiconfoundingInstrumental\n",
    "data=BiconfoundingInstrumentalData\n",
    "#g = InstrumentalGraph\n",
    "#data = InstrumentalData\n",
    "\n",
    "\n",
    "card=2\n",
    "inflation_order=2"
   ]
  },
  {
   "cell_type": "code",
   "execution_count": 5,
   "metadata": {},
   "outputs": [
    {
     "data": {
      "text/plain": "<igraph.Graph at 0x163c326a6d8>"
     },
     "execution_count": 5,
     "metadata": {},
     "output_type": "execute_result"
    }
   ],
   "source": [
    "g"
   ]
  },
  {
   "cell_type": "code",
   "execution_count": 6,
   "metadata": {},
   "outputs": [
    {
     "name": "stdout",
     "output_type": "stream",
     "text": [
      "['A', 'B', 'C', 'D']\n",
      "(['B'], ['A'], ['C', 'D'])\n",
      "(['C'], ['A'], ['B', 'D'])\n",
      "(['D'], ['A'], ['B', 'C'])\n"
     ]
    },
    {
     "data": {
      "text/plain": "(184, 55736)"
     },
     "execution_count": 6,
     "metadata": {},
     "output_type": "execute_result"
    }
   ],
   "source": [
    "from inflation.inflationmatrix import InflationMatrixFromGraph, NumericalAndSymbolicVectorsFromGraph\n",
    "InfMat = InflationMatrixFromGraph(g, inflation_order, card, extra_expressible=True)\n",
    "B_numeric, B_symbolic = NumericalAndSymbolicVectorsFromGraph(g, data, inflation_order, card, extra_expressible=True)\n",
    "\n",
    "InfMat.shape"
   ]
  },
  {
   "cell_type": "code",
   "execution_count": 7,
   "metadata": {},
   "outputs": [
    {
     "data": {
      "text/plain": "['P(0000)P(0000)',\n '2*P(0000)P(0001)',\n '2*P(0000)P(0010)',\n '2*P(0000)P(0011)',\n '2*P(0000)P(0100)',\n '2*P(0000)P(0101)',\n '2*P(0000)P(0110)',\n '2*P(0000)P(0111)',\n '2*P(0000)P(1000)',\n '2*P(0000)P(1001)',\n '2*P(0000)P(1010)',\n '2*P(0000)P(1011)',\n '2*P(0000)P(1100)',\n '2*P(0000)P(1101)',\n '2*P(0000)P(1110)',\n '2*P(0000)P(1111)',\n 'P(0001)P(0001)',\n '2*P(0001)P(0010)',\n '2*P(0001)P(0011)',\n '2*P(0001)P(0100)',\n '2*P(0001)P(0101)',\n '2*P(0001)P(0110)',\n '2*P(0001)P(0111)',\n '2*P(0001)P(1000)',\n '2*P(0001)P(1001)',\n '2*P(0001)P(1010)',\n '2*P(0001)P(1011)',\n '2*P(0001)P(1100)',\n '2*P(0001)P(1101)',\n '2*P(0001)P(1110)',\n '2*P(0001)P(1111)',\n 'P(0010)P(0010)',\n '2*P(0010)P(0011)',\n '2*P(0010)P(0100)',\n '2*P(0010)P(0101)',\n '2*P(0010)P(0110)',\n '2*P(0010)P(0111)',\n '2*P(0010)P(1000)',\n '2*P(0010)P(1001)',\n '2*P(0010)P(1010)',\n '2*P(0010)P(1011)',\n '2*P(0010)P(1100)',\n '2*P(0010)P(1101)',\n '2*P(0010)P(1110)',\n '2*P(0010)P(1111)',\n 'P(0011)P(0011)',\n '2*P(0011)P(0100)',\n '2*P(0011)P(0101)',\n '2*P(0011)P(0110)',\n '2*P(0011)P(0111)',\n '2*P(0011)P(1000)',\n '2*P(0011)P(1001)',\n '2*P(0011)P(1010)',\n '2*P(0011)P(1011)',\n '2*P(0011)P(1100)',\n '2*P(0011)P(1101)',\n '2*P(0011)P(1110)',\n '2*P(0011)P(1111)',\n 'P(0100)P(0100)',\n '2*P(0100)P(0101)',\n '2*P(0100)P(0110)',\n '2*P(0100)P(0111)',\n '2*P(0100)P(1000)',\n '2*P(0100)P(1001)',\n '2*P(0100)P(1010)',\n '2*P(0100)P(1011)',\n '2*P(0100)P(1100)',\n '2*P(0100)P(1101)',\n '2*P(0100)P(1110)',\n '2*P(0100)P(1111)',\n 'P(0101)P(0101)',\n '2*P(0101)P(0110)',\n '2*P(0101)P(0111)',\n '2*P(0101)P(1000)',\n '2*P(0101)P(1001)',\n '2*P(0101)P(1010)',\n '2*P(0101)P(1011)',\n '2*P(0101)P(1100)',\n '2*P(0101)P(1101)',\n '2*P(0101)P(1110)',\n '2*P(0101)P(1111)',\n 'P(0110)P(0110)',\n '2*P(0110)P(0111)',\n '2*P(0110)P(1000)',\n '2*P(0110)P(1001)',\n '2*P(0110)P(1010)',\n '2*P(0110)P(1011)',\n '2*P(0110)P(1100)',\n '2*P(0110)P(1101)',\n '2*P(0110)P(1110)',\n '2*P(0110)P(1111)',\n 'P(0111)P(0111)',\n '2*P(0111)P(1000)',\n '2*P(0111)P(1001)',\n '2*P(0111)P(1010)',\n '2*P(0111)P(1011)',\n '2*P(0111)P(1100)',\n '2*P(0111)P(1101)',\n '2*P(0111)P(1110)',\n '2*P(0111)P(1111)',\n 'P(1000)P(1000)',\n '2*P(1000)P(1001)',\n '2*P(1000)P(1010)',\n '2*P(1000)P(1011)',\n '2*P(1000)P(1100)',\n '2*P(1000)P(1101)',\n '2*P(1000)P(1110)',\n '2*P(1000)P(1111)',\n 'P(1001)P(1001)',\n '2*P(1001)P(1010)',\n '2*P(1001)P(1011)',\n '2*P(1001)P(1100)',\n '2*P(1001)P(1101)',\n '2*P(1001)P(1110)',\n '2*P(1001)P(1111)',\n 'P(1010)P(1010)',\n '2*P(1010)P(1011)',\n '2*P(1010)P(1100)',\n '2*P(1010)P(1101)',\n '2*P(1010)P(1110)',\n '2*P(1010)P(1111)',\n 'P(1011)P(1011)',\n '2*P(1011)P(1100)',\n '2*P(1011)P(1101)',\n '2*P(1011)P(1110)',\n '2*P(1011)P(1111)',\n 'P(1100)P(1100)',\n '2*P(1100)P(1101)',\n '2*P(1100)P(1110)',\n '2*P(1100)P(1111)',\n 'P(1101)P(1101)',\n '2*P(1101)P(1110)',\n '2*P(1101)P(1111)',\n 'P(1110)P(1110)',\n '2*P(1110)P(1111)',\n 'P(1111)P(1111)',\n 'P[A|B](0|0)P[CD|B](00|0)P[B](0)',\n 'P[A|B](0|0)P[CD|B](01|0)P[B](0)',\n 'P[A|B](0|0)P[CD|B](10|0)P[B](0)',\n 'P[A|B](0|0)P[CD|B](11|0)P[B](0)',\n 'P[A|B](0|1)P[CD|B](00|1)P[B](1)',\n 'P[A|B](0|1)P[CD|B](01|1)P[B](1)',\n 'P[A|B](0|1)P[CD|B](10|1)P[B](1)',\n 'P[A|B](0|1)P[CD|B](11|1)P[B](1)',\n 'P[A|B](1|0)P[CD|B](00|0)P[B](0)',\n 'P[A|B](1|0)P[CD|B](01|0)P[B](0)',\n 'P[A|B](1|0)P[CD|B](10|0)P[B](0)',\n 'P[A|B](1|0)P[CD|B](11|0)P[B](0)',\n 'P[A|B](1|1)P[CD|B](00|1)P[B](1)',\n 'P[A|B](1|1)P[CD|B](01|1)P[B](1)',\n 'P[A|B](1|1)P[CD|B](10|1)P[B](1)',\n 'P[A|B](1|1)P[CD|B](11|1)P[B](1)',\n 'P[A|B](0|0)P[CD|B](00|0)P[B](0)',\n 'P[A|B](0|0)P[CD|B](01|0)P[B](0)',\n 'P[A|B](0|0)P[CD|B](10|0)P[B](0)',\n 'P[A|B](0|0)P[CD|B](11|0)P[B](0)',\n 'P[A|B](0|1)P[CD|B](00|1)P[B](1)',\n 'P[A|B](0|1)P[CD|B](01|1)P[B](1)',\n 'P[A|B](0|1)P[CD|B](10|1)P[B](1)',\n 'P[A|B](0|1)P[CD|B](11|1)P[B](1)',\n 'P[A|B](1|0)P[CD|B](00|0)P[B](0)',\n 'P[A|B](1|0)P[CD|B](01|0)P[B](0)',\n 'P[A|B](1|0)P[CD|B](10|0)P[B](0)',\n 'P[A|B](1|0)P[CD|B](11|0)P[B](0)',\n 'P[A|B](1|1)P[CD|B](00|1)P[B](1)',\n 'P[A|B](1|1)P[CD|B](01|1)P[B](1)',\n 'P[A|B](1|1)P[CD|B](10|1)P[B](1)',\n 'P[A|B](1|1)P[CD|B](11|1)P[B](1)',\n 'P[A|B](0|0)P[CD|B](00|0)P[B](0)',\n 'P[A|B](0|0)P[CD|B](01|0)P[B](0)',\n 'P[A|B](0|0)P[CD|B](10|0)P[B](0)',\n 'P[A|B](0|0)P[CD|B](11|0)P[B](0)',\n 'P[A|B](0|1)P[CD|B](00|1)P[B](1)',\n 'P[A|B](0|1)P[CD|B](01|1)P[B](1)',\n 'P[A|B](0|1)P[CD|B](10|1)P[B](1)',\n 'P[A|B](0|1)P[CD|B](11|1)P[B](1)',\n 'P[A|B](1|0)P[CD|B](00|0)P[B](0)',\n 'P[A|B](1|0)P[CD|B](01|0)P[B](0)',\n 'P[A|B](1|0)P[CD|B](10|0)P[B](0)',\n 'P[A|B](1|0)P[CD|B](11|0)P[B](0)',\n 'P[A|B](1|1)P[CD|B](00|1)P[B](1)',\n 'P[A|B](1|1)P[CD|B](01|1)P[B](1)',\n 'P[A|B](1|1)P[CD|B](10|1)P[B](1)',\n 'P[A|B](1|1)P[CD|B](11|1)P[B](1)']"
     },
     "execution_count": 7,
     "metadata": {},
     "output_type": "execute_result"
    }
   ],
   "source": [
    "B_symbolic"
   ]
  },
  {
   "cell_type": "code",
   "execution_count": 8,
   "metadata": {
    "pycharm": {
     "name": "#%%\n"
    }
   },
   "outputs": [
    {
     "name": "stdout",
     "output_type": "stream",
     "text": [
      "Inferred primal variable count: 184\n",
      "Inferred dual variable count: 55736\n",
      "LP constructed, initiated optimizer.\n",
      "Open file 'mosek_prob.jtask'\n",
      "Start writing.\n",
      "done writing. Time: 0.06\n",
      "\n",
      "Problem\n",
      "  Name                   :                 \n",
      "  Objective sense        : min             \n",
      "  Type                   : LO (linear optimization problem)\n",
      "  Constraints            : 55737           \n",
      "  Cones                  : 0               \n",
      "  Scalar variables       : 184             \n",
      "  Matrix variables       : 0               \n",
      "  Integer variables      : 0               \n",
      "\n",
      "Optimizer started.\n",
      "Problem\n",
      "  Name                   :                 \n",
      "  Objective sense        : min             \n",
      "  Type                   : LO (linear optimization problem)\n",
      "  Constraints            : 55737           \n",
      "  Cones                  : 0               \n",
      "  Scalar variables       : 184             \n",
      "  Matrix variables       : 0               \n",
      "  Integer variables      : 0               \n",
      "\n",
      "Optimizer  - threads                : 6               \n",
      "Optimizer  - solved problem         : the dual        \n",
      "Optimizer  - Constraints            : 184\n",
      "Optimizer  - Cones                  : 0\n",
      "Optimizer  - Scalar variables       : 111658            conic                  : 0               \n",
      "Optimizer  - Semi-definite variables: 0                 scalarized             : 0               \n",
      "Factor     - setup time             : 0.05              dense det. time        : 0.00            \n",
      "Factor     - ML order time          : 0.00              GP order time          : 0.00            \n",
      "Factor     - nonzeros before factor : 1.70e+04          after factor           : 1.70e+04        \n",
      "Factor     - dense dim.             : 0                 flops                  : 3.79e+06        \n",
      "ITE PFEAS    DFEAS    GFEAS    PRSTATUS   POBJ              DOBJ              MU       TIME  \n",
      "0   4.4e+03  1.7e+01  1.7e+06  0.00e+00   -4.000000000e+00  -1.029555653e+05  2.8e+02  0.09  \n",
      "1   4.1e+03  1.6e+01  1.6e+06  8.46e-01   -3.721138847e+00  -9.619054661e+04  2.6e+02  0.13  \n",
      "2   3.1e+03  1.2e+01  1.2e+06  8.59e-01   -2.737383616e+00  -7.173540980e+04  2.0e+02  0.14  \n",
      "3   2.8e+03  1.1e+01  1.1e+06  8.49e-01   -2.490228015e+00  -6.578744960e+04  1.8e+02  0.16  \n",
      "4   1.6e+03  6.2e+00  6.4e+05  8.46e-01   -1.466225816e+00  -4.015580060e+04  1.0e+02  0.19  \n",
      "5   6.9e+02  2.6e+00  2.7e+05  7.63e-01   -6.543559549e-01  -1.922891413e+04  4.4e+01  0.20  \n",
      "6   1.8e+02  7.0e-01  7.2e+04  8.61e-01   -1.289510101e-01  -5.375428613e+03  1.2e+01  0.22  \n",
      "7   2.3e+01  8.6e-02  8.9e+03  1.37e+00   3.489684070e-02   -5.083887711e+02  1.4e+00  0.23  \n",
      "8   6.5e-01  2.5e-03  2.6e+02  1.04e+00   4.992101937e-02   -1.438724819e+01  4.2e-02  0.25  \n",
      "9   6.2e-03  1.2e-04  1.2e+01  1.00e+00   1.224256540e-02   -6.728502650e-01  2.0e-03  0.28  \n",
      "10  2.5e-03  4.9e-05  5.0e+00  1.00e+00   2.941917076e-02   -2.490839175e-01  8.1e-04  0.30  \n",
      "11  4.2e-04  2.2e-05  1.5e+00  1.00e+00   2.833628267e-03   -7.837110841e-02  2.4e-04  0.31  \n",
      "12  1.9e-04  3.9e-05  5.8e-01  1.00e+00   -4.519358062e-04  -3.305267157e-02  9.6e-05  0.33  \n",
      "13  6.9e-05  1.1e-04  1.7e-01  1.00e+00   -3.800001986e-03  -1.354143671e-02  3.5e-05  0.34  \n",
      "14  6.9e-05  1.1e-04  1.7e-01  1.00e+00   -3.800001986e-03  -1.354143671e-02  3.5e-05  0.36  \n",
      "15  6.8e-06  1.1e-05  1.7e-02  1.00e+00   -8.097389797e-03  -9.049996865e-03  3.4e-06  0.39  \n",
      "16  4.3e-08  7.1e-08  1.1e-04  1.00e+00   -8.331410309e-03  -8.337495438e-03  2.2e-08  0.44  \n",
      "17  2.2e-10  3.7e-10  5.6e-07  1.00e+00   -8.333323410e-03  -8.333354811e-03  1.1e-10  0.47  \n",
      "18  2.2e-10  3.7e-10  5.6e-07  1.00e+00   -8.333323410e-03  -8.333354811e-03  1.1e-10  0.50  \n",
      "19  6.5e-12  1.9e-12  2.9e-09  1.00e+00   -8.333333282e-03  -8.333333444e-03  5.9e-13  0.55  \n",
      "Optimizer terminated. Time: 0.56    \n",
      "\n",
      "Open file 'mosek_sol.json'\n",
      "\n",
      "Interior-point solution summary\n",
      "  Problem status  : PRIMAL_AND_DUAL_FEASIBLE\n",
      "  Solution status : OPTIMAL\n",
      "  Primal.  obj: -8.3333332821e-03   nrm: 1e+00    Viol.  con: 1e-13    var: 0e+00  \n",
      "  Dual.    obj: -8.3333334866e-03   nrm: 2e-02    Viol.  con: 8e-19    var: 0e+00  \n",
      "Problem status: prosta.prim_and_dual_feas\n",
      "Solution status: solsta.optimal\n",
      "\n",
      "Coefficient Range: [-0.03333333315224518, 0.03333333315564224]\n"
     ]
    }
   ],
   "source": [
    "from inflation.moseklp import InfeasibilityCertificate\n",
    "from inflation.mosekinfeas import InfeasibilityCertificateAUTO #Different internal LP construction, formally same LP\n",
    "\n",
    "Sol=InfeasibilityCertificate(\n",
    "    InfMat,\n",
    "    B_numeric)"
   ]
  },
  {
   "cell_type": "code",
   "execution_count": 9,
   "metadata": {},
   "outputs": [
    {
     "name": "stdout",
     "output_type": "stream",
     "text": [
      "Distribution Compatibility Status: INCOMPATIBLE\n",
      "Writing to file: 'inequality_output.json'\n"
     ]
    },
    {
     "data": {
      "text/plain": "dict_keys(['Raw rolver output', 'Coefficients grouped by index', 'Coefficients grouped by symbol', 'Clean solver output'])"
     },
     "execution_count": 9,
     "metadata": {},
     "output_type": "execute_result"
    }
   ],
   "source": [
    "from inflation.certificate import Inequality\n",
    "solveroutputcleanedup=Inequality(InfMat,\n",
    "                                 B_numeric,\n",
    "                                 B_symbolic,\n",
    "                                 Sol)\n",
    "solveroutputcleanedup.keys()\n"
   ]
  },
  {
   "cell_type": "code",
   "execution_count": 10,
   "metadata": {
    "collapsed": true,
    "jupyter": {
     "outputs_hidden": true
    }
   },
   "outputs": [
    {
     "data": {
      "text/plain": "defaultdict(list,\n            {'-1': ['2*P(0000)P(1011)', '2*P(0100)P(1111)'],\n             '1': ['2*P(0001)P(1010)',\n              '2*P(0001)P(1100)',\n              '2*P(0001)P(1101)',\n              '2*P(0010)P(1001)',\n              '2*P(0010)P(1100)',\n              '2*P(0010)P(1110)',\n              '2*P(0011)P(1000)',\n              '2*P(0011)P(1101)',\n              '2*P(0011)P(1110)',\n              '2*P(0101)P(1000)',\n              '2*P(0101)P(1001)',\n              '2*P(0101)P(1110)',\n              '2*P(0110)P(1000)',\n              '2*P(0110)P(1010)',\n              '2*P(0110)P(1101)',\n              '2*P(0111)P(1001)',\n              '2*P(0111)P(1010)',\n              '2*P(0111)P(1100)']})"
     },
     "execution_count": 10,
     "metadata": {},
     "output_type": "execute_result"
    }
   ],
   "source": [
    "solveroutputcleanedup['Coefficients grouped by symbol']"
   ]
  },
  {
   "cell_type": "code",
   "execution_count": 10,
   "outputs": [],
   "source": [],
   "metadata": {
    "collapsed": false,
    "pycharm": {
     "name": "#%%\n"
    }
   }
  }
 ],
 "metadata": {
  "kernelspec": {
   "display_name": "idp",
   "language": "python",
   "name": "idp"
  },
  "language_info": {
   "codemirror_mode": {
    "name": "ipython",
    "version": 3
   },
   "file_extension": ".py",
   "mimetype": "text/x-python",
   "name": "python",
   "nbconvert_exporter": "python",
   "pygments_lexer": "ipython3",
   "version": "3.7.9"
  }
 },
 "nbformat": 4,
 "nbformat_minor": 4
}