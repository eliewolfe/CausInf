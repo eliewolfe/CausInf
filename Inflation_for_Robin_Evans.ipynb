{
 "cells": [
  {
   "cell_type": "code",
   "execution_count": 1,
   "metadata": {
    "collapsed": false,
    "jupyter": {
     "outputs_hidden": false
    },
    "pycharm": {
     "name": "#%%\n"
    }
   },
   "outputs": [],
   "source": [
    "from __future__ import absolute_import\n",
    "\n",
    "%reload_ext autoreload\n",
    "from igraph import Graph\n",
    "import numpy as np\n",
    "#import time\n",
    "#from numba import njit\n",
    "from scipy.sparse import coo_matrix, dok_matrix, csr_matrix\n",
    "#from collections import defaultdict\n",
    "#import json\n",
    "import importlib\n",
    "\n",
    "import os\n",
    "os.environ['PYTHONUNBUFFERED'] = '1'"
   ]
  },
  {
   "cell_type": "code",
   "execution_count": 2,
   "metadata": {},
   "outputs": [],
   "source": [
    "def ListOfBitStringsToListOfIntegers(list_of_bitstrings):\n",
    "    return list(map(lambda s: int(s,2),list_of_bitstrings))\n",
    "def UniformDistributionFromSupport(list_of_bitstrings):\n",
    "    numvar = max(map(len,list_of_bitstrings))\n",
    "    numevents = len(list_of_bitstrings)\n",
    "    data = np.zeros(2 ** numvar)\n",
    "    data[ListOfBitStringsToListOfIntegers(list_of_bitstrings)] = 1/numevents\n",
    "    return data"
   ]
  },
  {
   "cell_type": "code",
   "execution_count": 9,
   "metadata": {},
   "outputs": [],
   "source": [
    "#Some graphs and data sets to play with\n",
    "InstrumentalGraph = Graph.Formula(\"U1->X->A->B,U2->A:B\")\n",
    "BiconfoundingGraph = Graph.Formula(\"U1->A:B,U2->A:C,A->B:C\")\n",
    "Evans14a = Graph.Formula(\"U1->A:C,U2->A:B:D,U3->B:C:D,A->B,C->D\")\n",
    "Evans14b = Graph.Formula(\"U1->A:C,U2->B:C:D,U3->A:D,A->B,B:C->D\")\n",
    "Evans14c = Graph.Formula(\"U1->A:C,U2->B:D,U3->A:D,A->B->C->D\")\n",
    "IceCreamGraph = Graph.Formula(\"U1->A,U2->B:D,U3->C:D,A->B:C,B->D\")\n",
    "BiconfoundingInstrumental = Graph.Formula(\"U1->A,U2->B:C,U3->B:D,A->B,B->C:D\")\n",
    "TriangleGraph = Graph.Formula(\"X->A,Y->A:B,Z->B:C,X->C\")\n",
    "\n",
    "\n",
    "\n",
    "TriangleData=[0.12199995751046305, 0.0022969343799089472, 0.001748319476328954, 3.999015242496535e-05, 0.028907881434196828, 0.0005736087488455967, 0.0003924033706699725, 1.1247230369521505e-05, 0.0030142577390317635, 0.09234476010282468, 4.373922921480586e-05, 0.0014533921021948346, 0.0007798079722868244, 0.024091567451515063, 1.1247230369521505e-05, 0.0003849052170902915, 0.020774884184769502, 0.000396152447459813, 0.0003049249122403608, 4.998769053120669e-06, 0.10820335492385, 0.0020794879260981982, 0.0015546171755205281, 2.4993845265603346e-05, 0.0006260958239033638, 0.020273757587194154, 7.498153579681003e-06, 0.0003374169110856452, 0.0028942872817568676, 0.08976414557915113, 2.624353752888351e-05, 0.0012984302615480939, 0.002370666223442477, 4.7488306004646356e-05, 0.0999928767540993, 0.001957018084296742, 0.0006198473625869629, 8.747845842961171e-06, 0.02636975644747481, 0.0005198719815245496, 1.4996307159362007e-05, 0.000403650601039494, 0.0005498645958432735, 0.017359475229224805, 7.123245900696953e-05, 0.002346922070440154, 0.0033754188031197316, 0.10295964618712641, 0.00038740460161685187, 7.498153579681003e-06, 0.01608353942841575, 0.000306174604503641, 0.0021319750011559654, 4.248953695152569e-05, 0.09107007399427891, 0.001860791780024169, 5.998522863744803e-05, 0.0018395470115484063, 0.002570616985567304, 0.0766411271224461, 1.874538394920251e-05, 0.00048238121362614454, 0.0006410921310627258, 0.020223769896662948]\n",
    "InstrumentalData=UniformDistributionFromSupport(['000','101'])\n",
    "BiconfoundingData=UniformDistributionFromSupport(['000','011'])\n",
    "BiconfoundingInstrumentalData=UniformDistributionFromSupport(['0000','0100','1011','1111'])"
   ]
  },
  {
   "cell_type": "code",
   "execution_count": 10,
   "metadata": {},
   "outputs": [],
   "source": [
    "#Set as desired.\n",
    "#Graph=BiconfoundingGraph\n",
    "#Data=BiconfoundingData\n",
    "Graph=BiconfoundingInstrumental\n",
    "#Data=BiconfoundingInstrumentalData\n",
    "\n",
    "\n",
    "card=2\n",
    "inflation_order=2"
   ]
  },
  {
   "cell_type": "code",
   "execution_count": 13,
   "metadata": {},
   "outputs": [
    {
     "data": {
      "text/plain": "[3, 12, ['A', 'B', 'C']]"
     },
     "execution_count": 13,
     "metadata": {},
     "output_type": "execute_result"
    }
   ],
   "source": [
    "from inflation.quickgraph import LearnSomeInflationGraphParameters\n",
    "#importlib.reload(sys.modules['inflation.quickgraph'])\n",
    "obs_count,num_vars,names=LearnSomeInflationGraphParameters(Graph,inflation_order)\n",
    "[obs_count,num_vars,names]"
   ]
  },
  {
   "cell_type": "code",
   "execution_count": 15,
   "metadata": {},
   "outputs": [
    {
     "name": "stdout",
     "output_type": "stream",
     "text": [
      "['A', 'B', 'C']\n"
     ]
    },
    {
     "data": {
      "text/plain": "(36, 362)"
     },
     "execution_count": 15,
     "metadata": {},
     "output_type": "execute_result"
    }
   ],
   "source": [
    "from inflation.inflationmatrix import InflationMatrixFromGraph,FindB\n",
    "SparseInflationMatrix = InflationMatrixFromGraph(Graph,inflation_order,card)\n",
    "SparseInflationMatrix.shape"
   ]
  },
  {
   "cell_type": "code",
   "execution_count": 16,
   "metadata": {},
   "outputs": [
    {
     "data": {
      "text/plain": "[(36,), (36, 362)]"
     },
     "execution_count": 16,
     "metadata": {},
     "output_type": "execute_result"
    }
   ],
   "source": [
    "MarginalVector=FindB(Data,inflation_order)\n",
    "[MarginalVector.shape,SparseInflationMatrix.shape]"
   ]
  },
  {
   "cell_type": "code",
   "execution_count": 17,
   "metadata": {
    "pycharm": {
     "name": "#%%\n"
    }
   },
   "outputs": [
    {
     "name": "stdout",
     "output_type": "stream",
     "text": [
      "Inferred primal variable count: 36\n",
      "Inferred dual variable count: 362\n",
      "LP constructed, initiated optimizer.\n",
      "Open file 'mosek_prob.jtask'\n",
      "Start writing.\n",
      "done writing. Time: 0.00\n",
      "\n",
      "Problem\n",
      "  Name                   :                 \n",
      "  Objective sense        : min             \n",
      "  Type                   : LO (linear optimization problem)\n",
      "  Constraints            : 363             \n",
      "  Cones                  : 0               \n",
      "  Scalar variables       : 36              \n",
      "  Matrix variables       : 0               \n",
      "  Integer variables      : 0               \n",
      "\n",
      "Optimizer started.\n",
      "Problem\n",
      "  Name                   :                 \n",
      "  Objective sense        : min             \n",
      "  Type                   : LO (linear optimization problem)\n",
      "  Constraints            : 363             \n",
      "  Cones                  : 0               \n",
      "  Scalar variables       : 36              \n",
      "  Matrix variables       : 0               \n",
      "  Integer variables      : 0               \n",
      "\n",
      "Optimizer  - threads                : 6               \n",
      "Optimizer  - solved problem         : the dual        \n",
      "Optimizer  - Constraints            : 36\n",
      "Optimizer  - Cones                  : 0\n",
      "Optimizer  - Scalar variables       : 762               conic                  : 0               \n",
      "Optimizer  - Semi-definite variables: 0                 scalarized             : 0               \n",
      "Factor     - setup time             : 0.00              dense det. time        : 0.00            \n",
      "Factor     - ML order time          : 0.00              GP order time          : 0.00            \n",
      "Factor     - nonzeros before factor : 666               after factor           : 666             \n",
      "Factor     - dense dim.             : 0                 flops                  : 2.15e+04        \n",
      "ITE PFEAS    DFEAS    GFEAS    PRSTATUS   POBJ              DOBJ              MU       TIME  \n",
      "0   4.3e+02  8.2e+00  3.7e+03  0.00e+00   -1.000000000e+00  -4.557838380e+02  6.7e+01  0.02  \n",
      "1   3.5e+02  6.8e+00  3.1e+03  2.68e-01   -7.667511077e-01  -3.599087828e+02  5.5e+01  0.06  \n",
      "2   5.4e+01  1.0e+00  4.7e+02  4.44e-01   -1.163158797e-01  -6.003868290e+01  8.4e+00  0.06  \n",
      "3   7.2e+00  1.4e-01  6.3e+01  1.33e+00   9.090788215e-03   -6.363665848e+00  1.1e+00  0.06  \n",
      "4   4.5e+00  8.5e-02  3.9e+01  1.09e+00   1.237993521e-02   -3.886330131e+00  7.0e-01  0.08  \n",
      "5   2.2e-01  4.2e-03  1.9e+00  1.07e+00   1.099206438e-02   -1.759806073e-01  3.5e-02  0.08  \n",
      "6   2.1e-02  7.0e-04  3.0e-01  1.00e+00   -1.734371218e-02  -4.617533281e-02  5.4e-03  0.08  \n",
      "7   3.3e-03  1.1e-04  4.6e-02  1.00e+00   -2.643188536e-02  -3.086866371e-02  8.3e-04  0.08  \n",
      "8   2.7e-05  8.7e-07  3.7e-04  1.00e+00   -2.776857179e-02  -2.780445087e-02  6.7e-06  0.08  \n",
      "9   1.4e-07  2.1e-08  7.6e-07  1.00e+00   -2.777773084e-02  -2.777780409e-02  3.4e-08  0.08  \n",
      "10  7.2e-10  1.9e-10  2.5e-09  1.00e+00   -2.777777754e-02  -2.777777778e-02  1.8e-10  0.08  \n",
      "11  7.2e-10  1.9e-10  2.5e-09  1.00e+00   -2.777777754e-02  -2.777777778e-02  1.8e-10  0.08  \n",
      "Optimizer terminated. Time: 0.13    \n",
      "\n",
      "Open file 'mosek_sol.json'\n",
      "\n",
      "Interior-point solution summary\n",
      "  Problem status  : PRIMAL_AND_DUAL_FEASIBLE\n",
      "  Solution status : OPTIMAL\n",
      "  Primal.  obj: -2.7777777536e-02   nrm: 1e+00    Viol.  con: 5e-11    var: 0e+00  \n",
      "  Dual.    obj: -2.7777778763e-02   nrm: 6e-02    Viol.  con: 5e-18    var: 0e+00  \n",
      "Problem status: prosta.prim_and_dual_feas\n",
      "Solution status: solsta.optimal\n",
      "\n",
      "Coefficient Range: [-0.05555555509130816, 0.05555555543175328]\n"
     ]
    }
   ],
   "source": [
    "from inflation.moseklp import InfeasibilityCertificate\n",
    "from inflation.mosekinfeas import InfeasibilityCertificateAUTO #Different internal LP construction, formally same LP\n",
    "\n",
    "Sol=InfeasibilityCertificate(\n",
    "    SparseInflationMatrix,\n",
    "    MarginalVector)"
   ]
  },
  {
   "cell_type": "code",
   "execution_count": 18,
   "metadata": {},
   "outputs": [
    {
     "name": "stdout",
     "output_type": "stream",
     "text": [
      "Distribution Compatibility Status: INCOMPATIBLE\n",
      "Writing to file: 'inequality_output.json'\n"
     ]
    },
    {
     "data": {
      "text/plain": "dict_keys(['Order of variables', 'Raw rolver output', 'Inequality as string', 'Coefficients grouped by index', 'Coefficients grouped by symbol', 'Clean solver output', 'Symolic association'])"
     },
     "execution_count": 18,
     "metadata": {},
     "output_type": "execute_result"
    }
   ],
   "source": [
    "from inflation.certificate import Inequality\n",
    "solveroutputcleanedup=Inequality(Graph,inflation_order,card,\n",
    "           SparseInflationMatrix,MarginalVector,Sol)\n",
    "solveroutputcleanedup.keys()\n",
    "\n",
    "#NOTE: The distribution is *compatible*. We should edit the Inequality function to make a better assessment."
   ]
  },
  {
   "cell_type": "code",
   "execution_count": 19,
   "metadata": {
    "collapsed": true,
    "jupyter": {
     "outputs_hidden": true
    }
   },
   "outputs": [
    {
     "data": {
      "text/plain": "defaultdict(list,\n            {'-2': ['P(000)P(011)'],\n             '2': ['P(001)P(010)',\n              'P(001)P(100)',\n              'P(001)P(101)',\n              'P(001)P(110)',\n              'P(001)P(111)',\n              'P(010)P(100)',\n              'P(010)P(101)',\n              'P(010)P(110)',\n              'P(010)P(111)',\n              'P(100)P(101)',\n              'P(100)P(110)',\n              'P(100)P(111)',\n              'P(101)P(110)',\n              'P(101)P(111)',\n              'P(110)P(111)'],\n             '1': ['P(100)**2', 'P(101)**2', 'P(110)**2', 'P(111)**2']})"
     },
     "execution_count": 19,
     "metadata": {},
     "output_type": "execute_result"
    }
   ],
   "source": [
    "solveroutputcleanedup['Coefficients grouped by symbol']"
   ]
  }
 ],
 "metadata": {
  "kernelspec": {
   "display_name": "idp",
   "language": "python",
   "name": "idp"
  },
  "language_info": {
   "codemirror_mode": {
    "name": "ipython",
    "version": 3
   },
   "file_extension": ".py",
   "mimetype": "text/x-python",
   "name": "python",
   "nbconvert_exporter": "python",
   "pygments_lexer": "ipython3",
   "version": "3.7.9"
  }
 },
 "nbformat": 4,
 "nbformat_minor": 4
}