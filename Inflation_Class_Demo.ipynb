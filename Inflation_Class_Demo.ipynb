{
 "cells": [
  {
   "cell_type": "markdown",
   "metadata": {},
   "source": [
    "#LATEST ANALYSIS\n",
    "\n",
    "* The \"IntelligentRounding\" method MUST be improved as it fails in a number of scenarios such as the Bell Scenario and the Instrumental Biconfounding Scenario.\n",
    "\n",
    "* Since the Bell Scenario failed due to the erroneous rounding of \"y\", mixed cardinality could not be tested properly. However, the absence of any error before the rounding makes a successful mixed cardinality check probable. Once the rounding is fixed more tests will be conducted on mixed cardinality.\n",
    "\n",
    "The rest of the tests have been conducted successfully."
   ]
  },
  {
   "cell_type": "code",
   "execution_count": 1,
   "metadata": {},
   "outputs": [
    {
     "ename": "ModuleNotFoundError",
     "evalue": "No module named 'inflation.classestest'",
     "output_type": "error",
     "traceback": [
      "\u001B[1;31m---------------------------------------------------------------------------\u001B[0m",
      "\u001B[1;31mModuleNotFoundError\u001B[0m                       Traceback (most recent call last)",
      "\u001B[1;32m<ipython-input-1-6d1d77f39f21>\u001B[0m in \u001B[0;36m<module>\u001B[1;34m\u001B[0m\n\u001B[0;32m      7\u001B[0m \u001B[1;32mimport\u001B[0m \u001B[0mjson\u001B[0m\u001B[1;33m\u001B[0m\u001B[1;33m\u001B[0m\u001B[0m\n\u001B[0;32m      8\u001B[0m \u001B[1;32mfrom\u001B[0m \u001B[0mcollections\u001B[0m \u001B[1;32mimport\u001B[0m \u001B[0mdefaultdict\u001B[0m\u001B[1;33m\u001B[0m\u001B[1;33m\u001B[0m\u001B[0m\n\u001B[1;32m----> 9\u001B[1;33m \u001B[1;32mfrom\u001B[0m \u001B[0minflation\u001B[0m\u001B[1;33m.\u001B[0m\u001B[0mclassestest\u001B[0m \u001B[1;32mimport\u001B[0m \u001B[0mInflationLP\u001B[0m\u001B[1;33m,\u001B[0m\u001B[0mInflatedGraph\u001B[0m\u001B[1;33m\u001B[0m\u001B[1;33m\u001B[0m\u001B[0m\n\u001B[0m\u001B[0;32m     10\u001B[0m \u001B[1;33m\u001B[0m\u001B[0m\n\u001B[0;32m     11\u001B[0m \u001B[1;32mdef\u001B[0m \u001B[0mListOfBitStringsToListOfIntegers\u001B[0m\u001B[1;33m(\u001B[0m\u001B[0mlist_of_bitstrings\u001B[0m\u001B[1;33m)\u001B[0m\u001B[1;33m:\u001B[0m\u001B[1;33m\u001B[0m\u001B[1;33m\u001B[0m\u001B[0m\n",
      "\u001B[1;31mModuleNotFoundError\u001B[0m: No module named 'inflation.classestest'"
     ]
    }
   ],
   "source": [
    "from __future__ import absolute_import\n",
    "import numpy as np\n",
    "from scipy.sparse import csr_matrix, coo_matrix\n",
    "from itertools import combinations, chain, permutations\n",
    "from igraph import Graph\n",
    "from itertools import product\n",
    "import json\n",
    "from collections import defaultdict\n",
    "from inflation.infgraph import InflationLP,InflatedGraph\n",
    "\n",
    "def ListOfBitStringsToListOfIntegers(list_of_bitstrings):\n",
    "    return list(map(lambda s: int(s,4),list_of_bitstrings))\n",
    "def UniformDistributionFromSupport(list_of_bitstrings):\n",
    "    numvar = max(map(len,list_of_bitstrings))\n",
    "    numevents = len(list_of_bitstrings)\n",
    "    data = np.zeros(4 ** numvar)\n",
    "    data[ListOfBitStringsToListOfIntegers(list_of_bitstrings)] = 1/numevents\n",
    "    return data\n",
    "\n",
    "def MixedCardinalityBaseConversion(cardinality, string):\n",
    "    card=np.array([cardinality[i]**(len(cardinality)-(i+1)) for i in range(len(cardinality))])\n",
    "    str_to_array=np.array([int(i) for i in string])\n",
    "    return np.dot(card,str_to_array)\n",
    "\"\"\"\n",
    "import sys\n",
    "sys.path.insert(0,'/Users/boraulu/opt/anaconda3/lib/python37.zip')\n",
    "sys.path.insert(0,'/Users/boraulu/opt/anaconda3/lib/python3.7')\n",
    "sys.path.insert(0,'/Users/boraulu/opt/anaconda3/lib/python3.7/lib-dynload')\n",
    "sys.path.insert(0,'/Users/boraulu/opt/anaconda3/lib/python3.7/site-packages')\n",
    "sys.path.insert(0,'/Users/boraulu/opt/anaconda3/lib/python3.7/lib-dynload')\n",
    "sys.path.insert(0,'/Users/boraulu/opt/anaconda3/lib/python3.7/site-packages')\n",
    "sys.path.insert(0,'/Users/boraulu/opt/anaconda3/lib/python3.7/site-packages/IPython/extensions')\n",
    "sys.path.remove('/Users/boraulu/opt/anaconda3/envs/myenv/lib/python38.zip')\n",
    "sys.path.remove('/Users/boraulu/opt/anaconda3/envs/myenv/lib/python3.8')\n",
    "sys.path.remove('/Users/boraulu/opt/anaconda3/envs/myenv/lib/python3.8/lib-dynload')\n",
    "sys.path.remove('/Users/boraulu/opt/anaconda3/envs/myenv/lib/python3.8/site-packages')\n",
    "sys.path.remove('/Users/boraulu/opt/anaconda3/envs/myenv/lib/python3.8/site-packages/IPython/extensions')\n",
    "\n",
    "import sys\n",
    "print(sys.path)\n",
    "print(np.__version__)\n",
    "\"\"\";"
   ]
  },
  {
   "cell_type": "code",
   "execution_count": null,
   "metadata": {},
   "outputs": [],
   "source": [
    "InstrumentalGraph = Graph.Formula(\"U1->X->A->B,U2->A:B\")\n",
    "BiconfoundingGraph = Graph.Formula(\"U1->A:B,U2->A:C,A->B:C\")\n",
    "Evans14a = Graph.Formula(\"U1->A:C,U2->A:B:D,U3->B:C:D,A->B,C->D\")\n",
    "Evans14b = Graph.Formula(\"U1->A:C,U2->B:C:D,U3->A:D,A->B,B:C->D\")\n",
    "Evans14c = Graph.Formula(\"U1->A:C,U2->B:D,U3->A:D,A->B->C->D\")\n",
    "IceCreamGraph = Graph.Formula(\"U1->A,U2->B:D,U3->C:D,A->B:C,B->D\")\n",
    "BiconfoundingInstrumental = Graph.Formula(\"U1->A,U2->B:C,U3->B:D,A->B,B->C:D\")\n",
    "TriangleGraph = Graph.Formula(\"X->A,Y->A:B,Z->B:C,X->C\")\n",
    "BellGraph = Graph.Formula(\"L->A:B,Ux->X,Uy->Y,X->A,Y->B\")\n",
    "\n",
    "TriangleData=[0.12199995751046305, 0.0022969343799089472, 0.001748319476328954, 3.999015242496535e-05, 0.028907881434196828, 0.0005736087488455967, 0.0003924033706699725, 1.1247230369521505e-05, 0.0030142577390317635, 0.09234476010282468, 4.373922921480586e-05, 0.0014533921021948346, 0.0007798079722868244, 0.024091567451515063, 1.1247230369521505e-05, 0.0003849052170902915, 0.020774884184769502, 0.000396152447459813, 0.0003049249122403608, 4.998769053120669e-06, 0.10820335492385, 0.0020794879260981982, 0.0015546171755205281, 2.4993845265603346e-05, 0.0006260958239033638, 0.020273757587194154, 7.498153579681003e-06, 0.0003374169110856452, 0.0028942872817568676, 0.08976414557915113, 2.624353752888351e-05, 0.0012984302615480939, 0.002370666223442477, 4.7488306004646356e-05, 0.0999928767540993, 0.001957018084296742, 0.0006198473625869629, 8.747845842961171e-06, 0.02636975644747481, 0.0005198719815245496, 1.4996307159362007e-05, 0.000403650601039494, 0.0005498645958432735, 0.017359475229224805, 7.123245900696953e-05, 0.002346922070440154, 0.0033754188031197316, 0.10295964618712641, 0.00038740460161685187, 7.498153579681003e-06, 0.01608353942841575, 0.000306174604503641, 0.0021319750011559654, 4.248953695152569e-05, 0.09107007399427891, 0.001860791780024169, 5.998522863744803e-05, 0.0018395470115484063, 0.002570616985567304, 0.0766411271224461, 1.874538394920251e-05, 0.00048238121362614454, 0.0006410921310627258, 0.020223769896662948]\n",
    "InstrumentalData=['000','011']\n",
    "InstrumentalData2=['000']\n",
    "BiconfoundingData=['000','011']\n",
    "BiconfoundingInstrumentalData=['0000','0100','1011','1111']\n",
    "Evans14aData=['0000','1001','1111']\n",
    "Evans14aData2=['0000','0010','0101']\n",
    "Evans14bData=['1000','1001','1111']\n",
    "Evans14cData=['0000','1101','1011']\n",
    "IceCreamData=['0000','1111','1010','0011']\n",
    "A=list(product('0123',repeat=4))\n",
    "B=[''.join(i) for i in A]\n",
    "del B[0]\n",
    "BellDataIncomp=B\n",
    "\n",
    "BellData=['0000','0010','0001','0020','0002','1011','0111','1100','1110','1101','1120','1102','0021','1121','0012','1112','0022','1122','0031','0131','0032','0132','0013','1013','0023','1023','0030','0130','0003','1003','0033','0133']\n",
    "cardinality=[2,2,4,4]\n",
    "original_card_product=np.prod(cardinality)\n",
    "NonlBellData = np.zeros(original_card_product)\n",
    "NonlBellData[list(map(lambda s: MixedCardinalityBaseConversion(cardinality, s),BellData))] = 1/len(BellData)\n",
    "NonlBellData[MixedCardinalityBaseConversion(cardinality, '0033')]=1/16\n",
    "NonlBellData[MixedCardinalityBaseConversion(cardinality, '0133')]=0\n",
    "InflatedGraph(BellGraph,[4,1,4]).print_assessment()"
   ]
  },
  {
   "cell_type": "code",
   "execution_count": null,
   "metadata": {},
   "outputs": [],
   "source": [
    "rawgraph=InstrumentalGraph\n",
    "rawdata=InstrumentalData\n",
    "\n",
    "card=2\n",
    "inflation_order=2\n",
    "extra_ex=True\n",
    "solver='moseklp'\n",
    "\n",
    "InflatedGraph(rawgraph,inflation_order).print_assessment()\n",
    "Output=InflationLP(rawgraph, rawdata, card, inflation_order,extra_ex,solver).Inequality()"
   ]
  },
  {
   "cell_type": "code",
   "execution_count": null,
   "metadata": {},
   "outputs": [],
   "source": [
    "rawgraph=InstrumentalGraph\n",
    "rawdata=InstrumentalData\n",
    "\n",
    "card=[2,2,2]\n",
    "inflation_order=2\n",
    "extra_ex=True\n",
    "solver='moseklp'\n",
    "\n",
    "InflatedGraph(rawgraph,inflation_order).print_assessment()\n",
    "Output=InflationLP(rawgraph, rawdata, card, inflation_order,extra_ex,solver).Inequality()"
   ]
  },
  {
   "cell_type": "code",
   "execution_count": null,
   "metadata": {},
   "outputs": [],
   "source": [
    "rawgraph=InstrumentalGraph\n",
    "rawdata=3\n",
    "\n",
    "card=2\n",
    "inflation_order=2\n",
    "extra_ex=True\n",
    "solver='moseklp'\n",
    "\n",
    "InflatedGraph(rawgraph,inflation_order).print_assessment()\n",
    "Output=InflationLP(rawgraph, rawdata, card, inflation_order,extra_ex,solver).Inequality()"
   ]
  },
  {
   "cell_type": "code",
   "execution_count": null,
   "metadata": {},
   "outputs": [],
   "source": [
    "rawgraph=TriangleGraph\n",
    "rawdata=TriangleData\n",
    "\n",
    "card=4\n",
    "inflation_order=2\n",
    "extra_ex=True\n",
    "solver='moseklp'\n",
    "\n",
    "InflatedGraph(rawgraph,inflation_order).print_assessment()\n",
    "Output=InflationLP(rawgraph, rawdata, card, inflation_order,extra_ex,solver).Inequality()"
   ]
  },
  {
   "cell_type": "code",
   "execution_count": null,
   "metadata": {},
   "outputs": [],
   "source": [
    "rawgraph=BiconfoundingGraph\n",
    "rawdata=BiconfoundingData\n",
    "\n",
    "card=2\n",
    "inflation_order=2\n",
    "extra_ex=True\n",
    "solver='moseklp'\n",
    "\n",
    "InflatedGraph(rawgraph,inflation_order).print_assessment()\n",
    "Output=InflationLP(rawgraph, rawdata, card, inflation_order,extra_ex,solver).Inequality()"
   ]
  },
  {
   "cell_type": "code",
   "execution_count": null,
   "metadata": {},
   "outputs": [],
   "source": [
    "rawgraph=Evans14a\n",
    "rawdata=Evans14aData\n",
    "\n",
    "card=2\n",
    "inflation_order=2\n",
    "extra_ex=True\n",
    "solver='moseklp'\n",
    "\n",
    "InflatedGraph(rawgraph,inflation_order).print_assessment()\n",
    "Output=InflationLP(rawgraph, rawdata, card, inflation_order,extra_ex,solver).Inequality()"
   ]
  },
  {
   "cell_type": "code",
   "execution_count": null,
   "metadata": {},
   "outputs": [],
   "source": [
    "rawgraph=Evans14b\n",
    "rawdata=Evans14bData\n",
    "\n",
    "card=2\n",
    "inflation_order=2\n",
    "extra_ex=True\n",
    "solver='moseklp'\n",
    "\n",
    "InflatedGraph(rawgraph,inflation_order).print_assessment()\n",
    "Output=InflationLP(rawgraph, rawdata, card, inflation_order,extra_ex,solver).Inequality()"
   ]
  },
  {
   "cell_type": "code",
   "execution_count": null,
   "metadata": {},
   "outputs": [],
   "source": [
    "rawgraph=Evans14c\n",
    "rawdata=Evans14cData\n",
    "\n",
    "card=2\n",
    "inflation_order=2\n",
    "extra_ex=True\n",
    "solver='moseklp'\n",
    "\n",
    "InflatedGraph(rawgraph,inflation_order).print_assessment()\n",
    "Output=InflationLP(rawgraph, rawdata, card, inflation_order,extra_ex,solver).Inequality()"
   ]
  },
  {
   "cell_type": "code",
   "execution_count": null,
   "metadata": {},
   "outputs": [],
   "source": [
    "rawgraph=IceCreamGraph\n",
    "rawdata=IceCreamData\n",
    "\n",
    "card=2\n",
    "inflation_order=2\n",
    "extra_ex=True\n",
    "solver='moseklp'\n",
    "\n",
    "InflatedGraph(rawgraph,inflation_order).print_assessment()\n",
    "Output=InflationLP(rawgraph, rawdata, card, inflation_order,extra_ex,solver).Inequality()"
   ]
  },
  {
   "cell_type": "code",
   "execution_count": null,
   "metadata": {},
   "outputs": [],
   "source": [
    "rawgraph=BiconfoundingInstrumental\n",
    "rawdata=BiconfoundingInstrumentalData\n",
    "\n",
    "card=2\n",
    "inflation_order=2\n",
    "extra_ex=True\n",
    "solver='moseklp'\n",
    "\n",
    "InflatedGraph(rawgraph,inflation_order).print_assessment()\n",
    "Output=InflationLP(rawgraph, rawdata, card, inflation_order,extra_ex,solver).Inequality()"
   ]
  },
  {
   "cell_type": "code",
   "execution_count": null,
   "metadata": {},
   "outputs": [],
   "source": [
    "rawgraph=BellGraph\n",
    "rawdata=NonlBellData\n",
    "\n",
    "card=[2,2,4,4]\n",
    "inflation_order=2\n",
    "extra_ex=True\n",
    "solver='moseklp'\n",
    "\n",
    "InflatedGraph(rawgraph,inflation_order).print_assessment()\n",
    "Output=InflationLP(rawgraph, rawdata, card, inflation_order,extra_ex,solver).Inequality()"
   ]
  },
  {
   "cell_type": "code",
   "execution_count": null,
   "metadata": {
    "pycharm": {
     "name": "#%%"
    }
   },
   "outputs": [],
   "source": []
  }
 ],
 "metadata": {
  "kernelspec": {
   "name": "idp",
   "language": "python",
   "display_name": "idp"
  },
  "language_info": {
   "codemirror_mode": {
    "name": "ipython",
    "version": 3
   },
   "file_extension": ".py",
   "mimetype": "text/x-python",
   "name": "python",
   "nbconvert_exporter": "python",
   "pygments_lexer": "ipython3",
   "version": "3.8.3"
  }
 },
 "nbformat": 4,
 "nbformat_minor": 4
}